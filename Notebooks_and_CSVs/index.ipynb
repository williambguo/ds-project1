{
 "cells": [
  {
   "cell_type": "markdown",
   "metadata": {},
   "source": [
    "# Aircraft Safety Analysis for Potential Expansion into Aviation Business"
   ]
  },
  {
   "cell_type": "markdown",
   "metadata": {},
   "source": [
    "## Overview"
   ]
  },
  {
   "cell_type": "markdown",
   "metadata": {},
   "source": [
    "# Business Problem"
   ]
  },
  {
   "cell_type": "markdown",
   "metadata": {},
   "source": [
    "# Data Understanding"
   ]
  },
  {
   "cell_type": "code",
   "execution_count": 1,
   "metadata": {},
   "outputs": [],
   "source": [
    "import pandas as pd \n",
    "import numpy as np \n",
    "import matplotlib.pyplot as plt \n",
    "import seaborn as sns"
   ]
  },
  {
   "cell_type": "code",
   "execution_count": 3,
   "metadata": {},
   "outputs": [
    {
     "name": "stdout",
     "output_type": "stream",
     "text": [
      "<class 'pandas.core.frame.DataFrame'>\n",
      "RangeIndex: 37461 entries, 0 to 37460\n",
      "Data columns (total 27 columns):\n",
      " #   Column                     Non-Null Count  Dtype  \n",
      "---  ------                     --------------  -----  \n",
      " 0   Date                       37461 non-null  object \n",
      " 1   Year                       37461 non-null  int64  \n",
      " 2   Month                      37461 non-null  int64  \n",
      " 3   Location                   37459 non-null  object \n",
      " 4   Country                    37461 non-null  object \n",
      " 5   Injury_Severity            37461 non-null  object \n",
      " 6   Damage_Type                37461 non-null  object \n",
      " 7   Aircraft_Category          37461 non-null  object \n",
      " 8   Make                       37461 non-null  object \n",
      " 9   Model                      37461 non-null  object \n",
      " 10  Engines                    37461 non-null  float64\n",
      " 11  Engine_Type                36420 non-null  object \n",
      " 12  Fatal_Injuries             37461 non-null  float64\n",
      " 13  Serious_Injuries           37461 non-null  float64\n",
      " 14  Minor_Injuries             37461 non-null  float64\n",
      " 15  Uninjured                  37461 non-null  float64\n",
      " 16  Total_Passengers           37461 non-null  float64\n",
      " 17  Weather                    37215 non-null  object \n",
      " 18  Fatal_Injuries_Fraction    37461 non-null  float64\n",
      " 19  Serious_Injuries_Fraction  37461 non-null  float64\n",
      " 20  Minor_Injuries_Fraction    37461 non-null  float64\n",
      " 21  Uninjured_Fraction         37461 non-null  float64\n",
      " 22  Risk_Index                 37461 non-null  float64\n",
      " 23  Plane_Size                 37461 non-null  object \n",
      " 24  Make_and_Model             37461 non-null  object \n",
      " 25  Mean_Risk_Index            37461 non-null  float64\n",
      " 26  Model_Total_Accidents      37461 non-null  int64  \n",
      "dtypes: float64(12), int64(3), object(12)\n",
      "memory usage: 7.7+ MB\n"
     ]
    }
   ],
   "source": [
    "df = pd.read_csv('../CSVs/data_cleaned_final.csv')\n",
    "df.info()"
   ]
  }
 ],
 "metadata": {
  "kernelspec": {
   "display_name": "learn-env",
   "language": "python",
   "name": "python3"
  },
  "language_info": {
   "codemirror_mode": {
    "name": "ipython",
    "version": 3
   },
   "file_extension": ".py",
   "mimetype": "text/x-python",
   "name": "python",
   "nbconvert_exporter": "python",
   "pygments_lexer": "ipython3",
   "version": "3.12.2"
  }
 },
 "nbformat": 4,
 "nbformat_minor": 2
}
