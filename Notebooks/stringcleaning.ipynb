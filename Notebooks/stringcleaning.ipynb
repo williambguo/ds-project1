{
 "cells": [
  {
   "cell_type": "markdown",
   "metadata": {},
   "source": [
    "# String cleaning of the 'Make' and 'Model' columns"
   ]
  },
  {
   "cell_type": "markdown",
   "metadata": {},
   "source": [
    "There is no good explanation as to why string cleaning is done in here rather than in the main Dataclean notebook. The thought at the time was that Dataclean felt too long and perhaps this string cleaning task is a separate thing so it was done here."
   ]
  },
  {
   "cell_type": "code",
   "execution_count": 191,
   "metadata": {},
   "outputs": [],
   "source": [
    "import pandas as pd \n",
    "import numpy as np \n",
    "import matplotlib.pyplot as plt \n",
    "import seaborn as sns"
   ]
  },
  {
   "cell_type": "markdown",
   "metadata": {},
   "source": [
    "# Cleaning the Make column"
   ]
  },
  {
   "cell_type": "markdown",
   "metadata": {},
   "source": [
    "In hindsight, it would have been smart to write a function for some of the tasks in this notebook. We live and we learn."
   ]
  },
  {
   "cell_type": "code",
   "execution_count": 147,
   "metadata": {},
   "outputs": [
    {
     "data": {
      "text/html": [
       "<div>\n",
       "<style scoped>\n",
       "    .dataframe tbody tr th:only-of-type {\n",
       "        vertical-align: middle;\n",
       "    }\n",
       "\n",
       "    .dataframe tbody tr th {\n",
       "        vertical-align: top;\n",
       "    }\n",
       "\n",
       "    .dataframe thead th {\n",
       "        text-align: right;\n",
       "    }\n",
       "</style>\n",
       "<table border=\"1\" class=\"dataframe\">\n",
       "  <thead>\n",
       "    <tr style=\"text-align: right;\">\n",
       "      <th></th>\n",
       "      <th>Unnamed: 0</th>\n",
       "      <th>Type</th>\n",
       "      <th>Date</th>\n",
       "      <th>Location</th>\n",
       "      <th>Country</th>\n",
       "      <th>Injury_Severity</th>\n",
       "      <th>Damage_Type</th>\n",
       "      <th>Aircraft_Category</th>\n",
       "      <th>Make</th>\n",
       "      <th>Model</th>\n",
       "      <th>...</th>\n",
       "      <th>Engines</th>\n",
       "      <th>Engine_Type</th>\n",
       "      <th>Fatal_Injuries</th>\n",
       "      <th>Serious_Injuries</th>\n",
       "      <th>Minor_Injuries</th>\n",
       "      <th>Uninjured</th>\n",
       "      <th>Weather</th>\n",
       "      <th>Total_Passengers</th>\n",
       "      <th>Year</th>\n",
       "      <th>Month</th>\n",
       "    </tr>\n",
       "  </thead>\n",
       "  <tbody>\n",
       "    <tr>\n",
       "      <th>0</th>\n",
       "      <td>0</td>\n",
       "      <td>Accident</td>\n",
       "      <td>1948-10-24</td>\n",
       "      <td>MOOSE CREEK, ID</td>\n",
       "      <td>United States</td>\n",
       "      <td>Fatal</td>\n",
       "      <td>Destroyed</td>\n",
       "      <td>Airplane</td>\n",
       "      <td>Stinson</td>\n",
       "      <td>108-3</td>\n",
       "      <td>...</td>\n",
       "      <td>1.0</td>\n",
       "      <td>Reciprocating</td>\n",
       "      <td>2.0</td>\n",
       "      <td>0.0</td>\n",
       "      <td>0.0</td>\n",
       "      <td>0.0</td>\n",
       "      <td>UNK</td>\n",
       "      <td>2.0</td>\n",
       "      <td>1948</td>\n",
       "      <td>10</td>\n",
       "    </tr>\n",
       "    <tr>\n",
       "      <th>1</th>\n",
       "      <td>1</td>\n",
       "      <td>Accident</td>\n",
       "      <td>1962-07-19</td>\n",
       "      <td>BRIDGEPORT, CA</td>\n",
       "      <td>United States</td>\n",
       "      <td>Fatal</td>\n",
       "      <td>Destroyed</td>\n",
       "      <td>Airplane</td>\n",
       "      <td>Piper</td>\n",
       "      <td>PA24-180</td>\n",
       "      <td>...</td>\n",
       "      <td>1.0</td>\n",
       "      <td>Reciprocating</td>\n",
       "      <td>4.0</td>\n",
       "      <td>0.0</td>\n",
       "      <td>0.0</td>\n",
       "      <td>0.0</td>\n",
       "      <td>UNK</td>\n",
       "      <td>4.0</td>\n",
       "      <td>1962</td>\n",
       "      <td>7</td>\n",
       "    </tr>\n",
       "    <tr>\n",
       "      <th>2</th>\n",
       "      <td>2</td>\n",
       "      <td>Accident</td>\n",
       "      <td>1974-08-30</td>\n",
       "      <td>Saltville, VA</td>\n",
       "      <td>United States</td>\n",
       "      <td>Fatal</td>\n",
       "      <td>Destroyed</td>\n",
       "      <td>Airplane</td>\n",
       "      <td>Cessna</td>\n",
       "      <td>172M</td>\n",
       "      <td>...</td>\n",
       "      <td>1.0</td>\n",
       "      <td>Reciprocating</td>\n",
       "      <td>3.0</td>\n",
       "      <td>0.0</td>\n",
       "      <td>0.0</td>\n",
       "      <td>0.0</td>\n",
       "      <td>IMC</td>\n",
       "      <td>3.0</td>\n",
       "      <td>1974</td>\n",
       "      <td>8</td>\n",
       "    </tr>\n",
       "    <tr>\n",
       "      <th>3</th>\n",
       "      <td>3</td>\n",
       "      <td>Accident</td>\n",
       "      <td>1977-06-19</td>\n",
       "      <td>EUREKA, CA</td>\n",
       "      <td>United States</td>\n",
       "      <td>Fatal</td>\n",
       "      <td>Destroyed</td>\n",
       "      <td>Airplane</td>\n",
       "      <td>Rockwell</td>\n",
       "      <td>112</td>\n",
       "      <td>...</td>\n",
       "      <td>1.0</td>\n",
       "      <td>Reciprocating</td>\n",
       "      <td>2.0</td>\n",
       "      <td>0.0</td>\n",
       "      <td>0.0</td>\n",
       "      <td>0.0</td>\n",
       "      <td>IMC</td>\n",
       "      <td>2.0</td>\n",
       "      <td>1977</td>\n",
       "      <td>6</td>\n",
       "    </tr>\n",
       "    <tr>\n",
       "      <th>4</th>\n",
       "      <td>5</td>\n",
       "      <td>Accident</td>\n",
       "      <td>1979-09-17</td>\n",
       "      <td>BOSTON, MA</td>\n",
       "      <td>United States</td>\n",
       "      <td>Non-Fatal</td>\n",
       "      <td>Substantial</td>\n",
       "      <td>Airplane</td>\n",
       "      <td>Mcdonnell Douglas</td>\n",
       "      <td>DC9</td>\n",
       "      <td>...</td>\n",
       "      <td>2.0</td>\n",
       "      <td>Turbo Fan</td>\n",
       "      <td>0.0</td>\n",
       "      <td>0.0</td>\n",
       "      <td>1.0</td>\n",
       "      <td>44.0</td>\n",
       "      <td>VMC</td>\n",
       "      <td>45.0</td>\n",
       "      <td>1979</td>\n",
       "      <td>9</td>\n",
       "    </tr>\n",
       "    <tr>\n",
       "      <th>...</th>\n",
       "      <td>...</td>\n",
       "      <td>...</td>\n",
       "      <td>...</td>\n",
       "      <td>...</td>\n",
       "      <td>...</td>\n",
       "      <td>...</td>\n",
       "      <td>...</td>\n",
       "      <td>...</td>\n",
       "      <td>...</td>\n",
       "      <td>...</td>\n",
       "      <td>...</td>\n",
       "      <td>...</td>\n",
       "      <td>...</td>\n",
       "      <td>...</td>\n",
       "      <td>...</td>\n",
       "      <td>...</td>\n",
       "      <td>...</td>\n",
       "      <td>...</td>\n",
       "      <td>...</td>\n",
       "      <td>...</td>\n",
       "      <td>...</td>\n",
       "    </tr>\n",
       "    <tr>\n",
       "      <th>70784</th>\n",
       "      <td>88869</td>\n",
       "      <td>Accident</td>\n",
       "      <td>2022-12-13</td>\n",
       "      <td>Lewistown, MT</td>\n",
       "      <td>United States</td>\n",
       "      <td>Non-Fatal</td>\n",
       "      <td>Substantial</td>\n",
       "      <td>Airplane</td>\n",
       "      <td>PIPER</td>\n",
       "      <td>PA42</td>\n",
       "      <td>...</td>\n",
       "      <td>2.0</td>\n",
       "      <td>NaN</td>\n",
       "      <td>0.0</td>\n",
       "      <td>0.0</td>\n",
       "      <td>0.0</td>\n",
       "      <td>1.0</td>\n",
       "      <td>NaN</td>\n",
       "      <td>1.0</td>\n",
       "      <td>2022</td>\n",
       "      <td>12</td>\n",
       "    </tr>\n",
       "    <tr>\n",
       "      <th>70785</th>\n",
       "      <td>88873</td>\n",
       "      <td>Accident</td>\n",
       "      <td>2022-12-14</td>\n",
       "      <td>San Juan, PR</td>\n",
       "      <td>United States</td>\n",
       "      <td>Non-Fatal</td>\n",
       "      <td>Substantial</td>\n",
       "      <td>Airplane</td>\n",
       "      <td>CIRRUS DESIGN CORP</td>\n",
       "      <td>SR22</td>\n",
       "      <td>...</td>\n",
       "      <td>1.0</td>\n",
       "      <td>NaN</td>\n",
       "      <td>0.0</td>\n",
       "      <td>0.0</td>\n",
       "      <td>0.0</td>\n",
       "      <td>1.0</td>\n",
       "      <td>VMC</td>\n",
       "      <td>1.0</td>\n",
       "      <td>2022</td>\n",
       "      <td>12</td>\n",
       "    </tr>\n",
       "    <tr>\n",
       "      <th>70786</th>\n",
       "      <td>88876</td>\n",
       "      <td>Accident</td>\n",
       "      <td>2022-12-15</td>\n",
       "      <td>Wichita, KS</td>\n",
       "      <td>United States</td>\n",
       "      <td>Non-Fatal</td>\n",
       "      <td>Substantial</td>\n",
       "      <td>Airplane</td>\n",
       "      <td>SWEARINGEN</td>\n",
       "      <td>SA226TC</td>\n",
       "      <td>...</td>\n",
       "      <td>2.0</td>\n",
       "      <td>NaN</td>\n",
       "      <td>0.0</td>\n",
       "      <td>0.0</td>\n",
       "      <td>0.0</td>\n",
       "      <td>1.0</td>\n",
       "      <td>NaN</td>\n",
       "      <td>1.0</td>\n",
       "      <td>2022</td>\n",
       "      <td>12</td>\n",
       "    </tr>\n",
       "    <tr>\n",
       "      <th>70787</th>\n",
       "      <td>88877</td>\n",
       "      <td>Accident</td>\n",
       "      <td>2022-12-16</td>\n",
       "      <td>Brooksville, FL</td>\n",
       "      <td>United States</td>\n",
       "      <td>Minor</td>\n",
       "      <td>Substantial</td>\n",
       "      <td>Airplane</td>\n",
       "      <td>CESSNA</td>\n",
       "      <td>R172K</td>\n",
       "      <td>...</td>\n",
       "      <td>1.0</td>\n",
       "      <td>NaN</td>\n",
       "      <td>0.0</td>\n",
       "      <td>1.0</td>\n",
       "      <td>0.0</td>\n",
       "      <td>0.0</td>\n",
       "      <td>VMC</td>\n",
       "      <td>1.0</td>\n",
       "      <td>2022</td>\n",
       "      <td>12</td>\n",
       "    </tr>\n",
       "    <tr>\n",
       "      <th>70788</th>\n",
       "      <td>88886</td>\n",
       "      <td>Accident</td>\n",
       "      <td>2022-12-26</td>\n",
       "      <td>Payson, AZ</td>\n",
       "      <td>United States</td>\n",
       "      <td>Non-Fatal</td>\n",
       "      <td>Substantial</td>\n",
       "      <td>Airplane</td>\n",
       "      <td>AMERICAN CHAMPION AIRCRAFT</td>\n",
       "      <td>8GCBC</td>\n",
       "      <td>...</td>\n",
       "      <td>1.0</td>\n",
       "      <td>NaN</td>\n",
       "      <td>0.0</td>\n",
       "      <td>0.0</td>\n",
       "      <td>0.0</td>\n",
       "      <td>1.0</td>\n",
       "      <td>VMC</td>\n",
       "      <td>1.0</td>\n",
       "      <td>2022</td>\n",
       "      <td>12</td>\n",
       "    </tr>\n",
       "  </tbody>\n",
       "</table>\n",
       "<p>70789 rows × 21 columns</p>\n",
       "</div>"
      ],
      "text/plain": [
       "       Unnamed: 0      Type        Date         Location        Country  \\\n",
       "0               0  Accident  1948-10-24  MOOSE CREEK, ID  United States   \n",
       "1               1  Accident  1962-07-19   BRIDGEPORT, CA  United States   \n",
       "2               2  Accident  1974-08-30    Saltville, VA  United States   \n",
       "3               3  Accident  1977-06-19       EUREKA, CA  United States   \n",
       "4               5  Accident  1979-09-17       BOSTON, MA  United States   \n",
       "...           ...       ...         ...              ...            ...   \n",
       "70784       88869  Accident  2022-12-13    Lewistown, MT  United States   \n",
       "70785       88873  Accident  2022-12-14     San Juan, PR  United States   \n",
       "70786       88876  Accident  2022-12-15      Wichita, KS  United States   \n",
       "70787       88877  Accident  2022-12-16  Brooksville, FL  United States   \n",
       "70788       88886  Accident  2022-12-26       Payson, AZ  United States   \n",
       "\n",
       "      Injury_Severity  Damage_Type Aircraft_Category  \\\n",
       "0               Fatal    Destroyed          Airplane   \n",
       "1               Fatal    Destroyed          Airplane   \n",
       "2               Fatal    Destroyed          Airplane   \n",
       "3               Fatal    Destroyed          Airplane   \n",
       "4           Non-Fatal  Substantial          Airplane   \n",
       "...               ...          ...               ...   \n",
       "70784       Non-Fatal  Substantial          Airplane   \n",
       "70785       Non-Fatal  Substantial          Airplane   \n",
       "70786       Non-Fatal  Substantial          Airplane   \n",
       "70787           Minor  Substantial          Airplane   \n",
       "70788       Non-Fatal  Substantial          Airplane   \n",
       "\n",
       "                             Make     Model  ... Engines    Engine_Type  \\\n",
       "0                         Stinson     108-3  ...     1.0  Reciprocating   \n",
       "1                           Piper  PA24-180  ...     1.0  Reciprocating   \n",
       "2                          Cessna      172M  ...     1.0  Reciprocating   \n",
       "3                        Rockwell       112  ...     1.0  Reciprocating   \n",
       "4               Mcdonnell Douglas       DC9  ...     2.0      Turbo Fan   \n",
       "...                           ...       ...  ...     ...            ...   \n",
       "70784                       PIPER      PA42  ...     2.0            NaN   \n",
       "70785          CIRRUS DESIGN CORP      SR22  ...     1.0            NaN   \n",
       "70786                  SWEARINGEN   SA226TC  ...     2.0            NaN   \n",
       "70787                      CESSNA     R172K  ...     1.0            NaN   \n",
       "70788  AMERICAN CHAMPION AIRCRAFT     8GCBC  ...     1.0            NaN   \n",
       "\n",
       "      Fatal_Injuries  Serious_Injuries  Minor_Injuries  Uninjured  Weather  \\\n",
       "0                2.0               0.0             0.0        0.0      UNK   \n",
       "1                4.0               0.0             0.0        0.0      UNK   \n",
       "2                3.0               0.0             0.0        0.0      IMC   \n",
       "3                2.0               0.0             0.0        0.0      IMC   \n",
       "4                0.0               0.0             1.0       44.0      VMC   \n",
       "...              ...               ...             ...        ...      ...   \n",
       "70784            0.0               0.0             0.0        1.0      NaN   \n",
       "70785            0.0               0.0             0.0        1.0      VMC   \n",
       "70786            0.0               0.0             0.0        1.0      NaN   \n",
       "70787            0.0               1.0             0.0        0.0      VMC   \n",
       "70788            0.0               0.0             0.0        1.0      VMC   \n",
       "\n",
       "      Total_Passengers  Year  Month  \n",
       "0                  2.0  1948     10  \n",
       "1                  4.0  1962      7  \n",
       "2                  3.0  1974      8  \n",
       "3                  2.0  1977      6  \n",
       "4                 45.0  1979      9  \n",
       "...                ...   ...    ...  \n",
       "70784              1.0  2022     12  \n",
       "70785              1.0  2022     12  \n",
       "70786              1.0  2022     12  \n",
       "70787              1.0  2022     12  \n",
       "70788              1.0  2022     12  \n",
       "\n",
       "[70789 rows x 21 columns]"
      ]
     },
     "execution_count": 147,
     "metadata": {},
     "output_type": "execute_result"
    }
   ],
   "source": [
    "df = pd.read_csv('aircraft_category_filled.csv')\n",
    "df"
   ]
  },
  {
   "cell_type": "code",
   "execution_count": 148,
   "metadata": {},
   "outputs": [
    {
     "data": {
      "text/plain": [
       "Unnamed: 0              0\n",
       "Type                    0\n",
       "Date                    0\n",
       "Location               18\n",
       "Country               192\n",
       "Injury_Severity        72\n",
       "Damage_Type           847\n",
       "Aircraft_Category       0\n",
       "Make                    0\n",
       "Model                   0\n",
       "Amateur_Built           0\n",
       "Engines                 0\n",
       "Engine_Type          2066\n",
       "Fatal_Injuries          0\n",
       "Serious_Injuries        0\n",
       "Minor_Injuries          0\n",
       "Uninjured               0\n",
       "Weather              1113\n",
       "Total_Passengers        0\n",
       "Year                    0\n",
       "Month                   0\n",
       "dtype: int64"
      ]
     },
     "execution_count": 148,
     "metadata": {},
     "output_type": "execute_result"
    }
   ],
   "source": [
    "df.isna().sum()"
   ]
  },
  {
   "cell_type": "code",
   "execution_count": 149,
   "metadata": {},
   "outputs": [
    {
     "data": {
      "text/plain": [
       "Aircraft_Category\n",
       "Airplane             64313\n",
       "Helicopter            6113\n",
       "Weight-Shift           132\n",
       "Powered Parachute       81\n",
       "Glider                  75\n",
       "Gyrocraft               30\n",
       "Ultralight              14\n",
       "Balloon                 14\n",
       "WSFT                     9\n",
       "Blimp                    4\n",
       "Powered-Lift             2\n",
       "Rocket                   1\n",
       "Unknown                  1\n",
       "Name: count, dtype: int64"
      ]
     },
     "execution_count": 149,
     "metadata": {},
     "output_type": "execute_result"
    }
   ],
   "source": [
    "df['Aircraft_Category'].value_counts()"
   ]
  },
  {
   "cell_type": "markdown",
   "metadata": {},
   "source": [
    "### Cleaning up the Make column"
   ]
  },
  {
   "cell_type": "code",
   "execution_count": 150,
   "metadata": {},
   "outputs": [
    {
     "data": {
      "text/plain": [
       "Make\n",
       "Cessna                     21408\n",
       "Piper                      11565\n",
       "CESSNA                      4372\n",
       "Beech                       4017\n",
       "PIPER                       2577\n",
       "                           ...  \n",
       "Golden Circle                  1\n",
       "FUJI                           1\n",
       "PALEN                          1\n",
       "BUTLER AIRCRAFT COMPANY        1\n",
       "ORLICAN S R O                  1\n",
       "Name: count, Length: 1994, dtype: int64"
      ]
     },
     "execution_count": 150,
     "metadata": {},
     "output_type": "execute_result"
    }
   ],
   "source": [
    "df['Make'].value_counts()"
   ]
  },
  {
   "cell_type": "code",
   "execution_count": 151,
   "metadata": {},
   "outputs": [],
   "source": [
    "df['Make'] = df['Make'].str.lower()"
   ]
  },
  {
   "cell_type": "code",
   "execution_count": 152,
   "metadata": {},
   "outputs": [
    {
     "data": {
      "text/plain": [
       "Make\n",
       "cessna                    25780\n",
       "piper                     14142\n",
       "beech                      4905\n",
       "bell                       2340\n",
       "mooney                     1272\n",
       "                          ...  \n",
       "gt ultralights                1\n",
       "evektor aerotechnik as        1\n",
       "lyons                         1\n",
       "wheat                         1\n",
       "orlican s r o                 1\n",
       "Name: count, Length: 1632, dtype: int64"
      ]
     },
     "execution_count": 152,
     "metadata": {},
     "output_type": "execute_result"
    }
   ],
   "source": [
    "df['Make'].value_counts()"
   ]
  },
  {
   "cell_type": "markdown",
   "metadata": {},
   "source": [
    "### Manually cleaning out duplicates"
   ]
  },
  {
   "cell_type": "code",
   "execution_count": 153,
   "metadata": {},
   "outputs": [],
   "source": [
    "# This and the myriad cells below are clearing duplicates in the 'Make' column. This method is neither 100% efficient nor 100% accurate. Some airplane\n",
    "# models are joint productions from two or more partnering companies. This method will not be able to differentiate between the two. Instead, names will\n",
    "# be combined and grouped under umbrellas like 'cessna' or 'beechcraft'.\n",
    "\n",
    "df.loc[df['Make'].str.contains('cessna', na=False), 'Make'] = 'cessna'"
   ]
  },
  {
   "cell_type": "code",
   "execution_count": 154,
   "metadata": {},
   "outputs": [
    {
     "data": {
      "text/plain": [
       "Make\n",
       "cessna                    25835\n",
       "piper                     14142\n",
       "beech                      4905\n",
       "bell                       2340\n",
       "mooney                     1272\n",
       "                          ...  \n",
       "collard                       1\n",
       "gt ultralights                1\n",
       "evektor aerotechnik as        1\n",
       "lyons                         1\n",
       "orlican s r o                 1\n",
       "Name: count, Length: 1620, dtype: int64"
      ]
     },
     "execution_count": 154,
     "metadata": {},
     "output_type": "execute_result"
    }
   ],
   "source": [
    "df['Make'].value_counts()"
   ]
  },
  {
   "cell_type": "code",
   "execution_count": 155,
   "metadata": {},
   "outputs": [],
   "source": [
    "df.loc[df['Make'].str.contains('beech', na=False), 'Make'] = 'beechcraft'\n"
   ]
  },
  {
   "cell_type": "code",
   "execution_count": 156,
   "metadata": {},
   "outputs": [
    {
     "data": {
      "text/plain": [
       "Make\n",
       "cessna                            25835\n",
       "piper                             14142\n",
       "beechcraft                         4978\n",
       "bell                               2340\n",
       "mooney                             1272\n",
       "                                  ...  \n",
       "bell-olympic helicopters, inc.        1\n",
       "fisher michael h                      1\n",
       "antares us                            1\n",
       "sportflight international llc         1\n",
       "orlican s r o                         1\n",
       "Name: count, Length: 1608, dtype: int64"
      ]
     },
     "execution_count": 156,
     "metadata": {},
     "output_type": "execute_result"
    }
   ],
   "source": [
    "df['Make'].value_counts()"
   ]
  },
  {
   "cell_type": "code",
   "execution_count": 157,
   "metadata": {},
   "outputs": [],
   "source": [
    "df.loc[df['Make'].str.contains('boeing', na=False), 'Make'] = 'boeing'\n"
   ]
  },
  {
   "cell_type": "code",
   "execution_count": 158,
   "metadata": {},
   "outputs": [
    {
     "data": {
      "text/plain": [
       "Make\n",
       "cessna                    25835\n",
       "piper                     14142\n",
       "beechcraft                 4978\n",
       "bell                       2340\n",
       "mooney                     1272\n",
       "                          ...  \n",
       "cubcrafter                    1\n",
       "collard                       1\n",
       "gt ultralights                1\n",
       "evektor aerotechnik as        1\n",
       "orlican s r o                 1\n",
       "Name: count, Length: 1597, dtype: int64"
      ]
     },
     "execution_count": 158,
     "metadata": {},
     "output_type": "execute_result"
    }
   ],
   "source": [
    "df['Make'].value_counts()"
   ]
  },
  {
   "cell_type": "code",
   "execution_count": 159,
   "metadata": {},
   "outputs": [],
   "source": [
    "df.loc[df['Make'].str.contains('airbus', na=False), 'Make'] = 'airbus'"
   ]
  },
  {
   "cell_type": "code",
   "execution_count": 160,
   "metadata": {},
   "outputs": [
    {
     "data": {
      "text/plain": [
       "Make\n",
       "cessna            25835\n",
       "piper             14142\n",
       "beechcraft         4978\n",
       "bell               2340\n",
       "mooney             1272\n",
       "                  ...  \n",
       "bristol               1\n",
       "cubcrafter            1\n",
       "collard               1\n",
       "gt ultralights        1\n",
       "orlican s r o         1\n",
       "Name: count, Length: 1591, dtype: int64"
      ]
     },
     "execution_count": 160,
     "metadata": {},
     "output_type": "execute_result"
    }
   ],
   "source": [
    "df['Make'].value_counts()"
   ]
  },
  {
   "cell_type": "code",
   "execution_count": 161,
   "metadata": {},
   "outputs": [],
   "source": [
    "df.loc[df['Make'].str.contains('piper', na=False), 'Make'] = 'piper'"
   ]
  },
  {
   "cell_type": "code",
   "execution_count": 162,
   "metadata": {},
   "outputs": [
    {
     "data": {
      "text/plain": [
       "Make\n",
       "cessna                          25835\n",
       "piper                           14213\n",
       "beechcraft                       4978\n",
       "bell                             2340\n",
       "mooney                           1272\n",
       "                                ...  \n",
       "eclipse aviation corporation        1\n",
       "bristol                             1\n",
       "cubcrafter                          1\n",
       "collard                             1\n",
       "orlican s r o                       1\n",
       "Name: count, Length: 1575, dtype: int64"
      ]
     },
     "execution_count": 162,
     "metadata": {},
     "output_type": "execute_result"
    }
   ],
   "source": [
    "df['Make'].value_counts()"
   ]
  },
  {
   "cell_type": "code",
   "execution_count": 164,
   "metadata": {},
   "outputs": [
    {
     "data": {
      "text/plain": [
       "Make\n",
       "cessna            25835\n",
       "piper             14213\n",
       "beechcraft         4978\n",
       "bell               2340\n",
       "mooney             1321\n",
       "                  ...  \n",
       "bristol               1\n",
       "cubcrafter            1\n",
       "collard               1\n",
       "gt ultralights        1\n",
       "orlican s r o         1\n",
       "Name: count, Length: 1568, dtype: int64"
      ]
     },
     "execution_count": 164,
     "metadata": {},
     "output_type": "execute_result"
    }
   ],
   "source": [
    "df.loc[df['Make'].str.contains('mooney', na=False), 'Make'] = 'mooney'\n",
    "df['Make'].value_counts()"
   ]
  },
  {
   "cell_type": "code",
   "execution_count": 166,
   "metadata": {},
   "outputs": [
    {
     "data": {
      "text/plain": [
       "Make\n",
       "cessna            25835\n",
       "piper             14213\n",
       "beechcraft         4978\n",
       "bell               2340\n",
       "mooney             1321\n",
       "                  ...  \n",
       "bristol               1\n",
       "cubcrafter            1\n",
       "collard               1\n",
       "gt ultralights        1\n",
       "orlican s r o         1\n",
       "Name: count, Length: 1564, dtype: int64"
      ]
     },
     "execution_count": 166,
     "metadata": {},
     "output_type": "execute_result"
    }
   ],
   "source": [
    "df.loc[df['Make'].str.contains('cirrus', na=False), 'Make'] = 'cirrus'\n",
    "df['Make'].value_counts()"
   ]
  },
  {
   "cell_type": "code",
   "execution_count": 167,
   "metadata": {},
   "outputs": [
    {
     "data": {
      "text/plain": [
       "Make\n",
       "cessna            25835\n",
       "piper             14213\n",
       "beechcraft         4978\n",
       "bell               2340\n",
       "robinson           1442\n",
       "                  ...  \n",
       "bristol               1\n",
       "cubcrafter            1\n",
       "collard               1\n",
       "gt ultralights        1\n",
       "orlican s r o         1\n",
       "Name: count, Length: 1558, dtype: int64"
      ]
     },
     "execution_count": 167,
     "metadata": {},
     "output_type": "execute_result"
    }
   ],
   "source": [
    "df.loc[df['Make'].str.contains('robinson', na=False), 'Make'] = 'robinson'\n",
    "df['Make'].value_counts()"
   ]
  },
  {
   "cell_type": "code",
   "execution_count": 168,
   "metadata": {},
   "outputs": [
    {
     "data": {
      "text/plain": [
       "Make\n",
       "cessna            25835\n",
       "piper             14213\n",
       "beechcraft         4978\n",
       "bell               2340\n",
       "robinson           1442\n",
       "                  ...  \n",
       "bristol               1\n",
       "cubcrafter            1\n",
       "collard               1\n",
       "gt ultralights        1\n",
       "orlican s r o         1\n",
       "Name: count, Length: 1550, dtype: int64"
      ]
     },
     "execution_count": 168,
     "metadata": {},
     "output_type": "execute_result"
    }
   ],
   "source": [
    "df.loc[df['Make'].str.contains('rockwell', na=False), 'Make'] = 'rockwell'\n",
    "df['Make'].value_counts()"
   ]
  },
  {
   "cell_type": "code",
   "execution_count": 169,
   "metadata": {},
   "outputs": [
    {
     "data": {
      "text/plain": [
       "Make\n",
       "cessna                            25835\n",
       "piper                             14213\n",
       "beechcraft                         4978\n",
       "bell                               2340\n",
       "grumman                            1597\n",
       "                                  ...  \n",
       "bell-olympic helicopters, inc.        1\n",
       "dart                                  1\n",
       "kociemba robert h                     1\n",
       "engle david                           1\n",
       "orlican s r o                         1\n",
       "Name: count, Length: 1537, dtype: int64"
      ]
     },
     "execution_count": 169,
     "metadata": {},
     "output_type": "execute_result"
    }
   ],
   "source": [
    "df.loc[df['Make'].str.contains('grumman', na=False), 'Make'] = 'grumman'\n",
    "df['Make'].value_counts()"
   ]
  },
  {
   "cell_type": "code",
   "execution_count": 170,
   "metadata": {},
   "outputs": [
    {
     "data": {
      "text/plain": [
       "Make\n",
       "cessna            25835\n",
       "piper             14213\n",
       "beechcraft         4978\n",
       "bell               2340\n",
       "grumman            1597\n",
       "                  ...  \n",
       "bristol               1\n",
       "cubcrafter            1\n",
       "collard               1\n",
       "gt ultralights        1\n",
       "orlican s r o         1\n",
       "Name: count, Length: 1535, dtype: int64"
      ]
     },
     "execution_count": 170,
     "metadata": {},
     "output_type": "execute_result"
    }
   ],
   "source": [
    "df.loc[df['Make'].str.contains('bellanca', na=False), 'Make'] = 'bellanca'\n",
    "df['Make'].value_counts()"
   ]
  },
  {
   "cell_type": "code",
   "execution_count": 171,
   "metadata": {},
   "outputs": [
    {
     "data": {
      "text/plain": [
       "Make\n",
       "cessna            25835\n",
       "piper             14213\n",
       "beechcraft         4978\n",
       "bell               2340\n",
       "grumman            1597\n",
       "                  ...  \n",
       "bristol               1\n",
       "cubcrafter            1\n",
       "collard               1\n",
       "gt ultralights        1\n",
       "orlican s r o         1\n",
       "Name: count, Length: 1533, dtype: int64"
      ]
     },
     "execution_count": 171,
     "metadata": {},
     "output_type": "execute_result"
    }
   ],
   "source": [
    "df.loc[df['Make'].str.contains('raytheon', na=False), 'Make'] = 'raytheon'\n",
    "df['Make'].value_counts()"
   ]
  },
  {
   "cell_type": "code",
   "execution_count": 172,
   "metadata": {},
   "outputs": [
    {
     "data": {
      "text/plain": [
       "Make\n",
       "cessna                    25835\n",
       "piper                     14213\n",
       "beechcraft                 4978\n",
       "bell                       2340\n",
       "grumman                    1597\n",
       "                          ...  \n",
       "cubcrafter                    1\n",
       "collard                       1\n",
       "gt ultralights                1\n",
       "evektor aerotechnik as        1\n",
       "orlican s r o                 1\n",
       "Name: count, Length: 1529, dtype: int64"
      ]
     },
     "execution_count": 172,
     "metadata": {},
     "output_type": "execute_result"
    }
   ],
   "source": [
    "df.loc[df['Make'].str.contains('bombardier', na=False), 'Make'] = 'bombardier'\n",
    "df['Make'].value_counts()"
   ]
  },
  {
   "cell_type": "code",
   "execution_count": 173,
   "metadata": {},
   "outputs": [
    {
     "data": {
      "text/plain": [
       "Make\n",
       "cessna                          25835\n",
       "piper                           14213\n",
       "beechcraft                       4978\n",
       "bell                             2340\n",
       "grumman                          1597\n",
       "                                ...  \n",
       "eclipse aviation corporation        1\n",
       "bristol                             1\n",
       "cubcrafter                          1\n",
       "collard                             1\n",
       "orlican s r o                       1\n",
       "Name: count, Length: 1523, dtype: int64"
      ]
     },
     "execution_count": 173,
     "metadata": {},
     "output_type": "execute_result"
    }
   ],
   "source": [
    "df.loc[df['Make'].str.contains('embraer', na=False), 'Make'] = 'embraer'\n",
    "df['Make'].value_counts()"
   ]
  },
  {
   "cell_type": "code",
   "execution_count": 174,
   "metadata": {},
   "outputs": [
    {
     "data": {
      "text/plain": [
       "Make\n",
       "cessna                25835\n",
       "piper                 14213\n",
       "beechcraft             4978\n",
       "bell                   2340\n",
       "grumman                1597\n",
       "                      ...  \n",
       "dart                      1\n",
       "ultralight soaring        1\n",
       "kociemba robert h         1\n",
       "engle david               1\n",
       "orlican s r o             1\n",
       "Name: count, Length: 1522, dtype: int64"
      ]
     },
     "execution_count": 174,
     "metadata": {},
     "output_type": "execute_result"
    }
   ],
   "source": [
    "df.loc[df['Make'].str.contains('lockheed', na=False), 'Make'] = 'lockheed'\n",
    "df['Make'].value_counts()"
   ]
  },
  {
   "cell_type": "code",
   "execution_count": 175,
   "metadata": {},
   "outputs": [
    {
     "data": {
      "text/plain": [
       "Make\n",
       "cessna                          25835\n",
       "piper                           14213\n",
       "beechcraft                       4978\n",
       "bell                             2340\n",
       "grumman                          1597\n",
       "                                ...  \n",
       "eclipse aviation corporation        1\n",
       "bristol                             1\n",
       "cubcrafter                          1\n",
       "collard                             1\n",
       "orlican s r o                       1\n",
       "Name: count, Length: 1518, dtype: int64"
      ]
     },
     "execution_count": 175,
     "metadata": {},
     "output_type": "execute_result"
    }
   ],
   "source": [
    "df.loc[df['Make'].str.contains('dassault', na=False), 'Make'] = 'dassault'\n",
    "df['Make'].value_counts()"
   ]
  },
  {
   "cell_type": "code",
   "execution_count": 176,
   "metadata": {},
   "outputs": [
    {
     "data": {
      "text/plain": [
       "Make\n",
       "cessna                            25835\n",
       "piper                             14213\n",
       "beechcraft                         4978\n",
       "bell                               2340\n",
       "grumman                            1597\n",
       "                                  ...  \n",
       "bell-olympic helicopters, inc.        1\n",
       "dart                                  1\n",
       "kociemba robert h                     1\n",
       "engle david                           1\n",
       "orlican s r o                         1\n",
       "Name: count, Length: 1516, dtype: int64"
      ]
     },
     "execution_count": 176,
     "metadata": {},
     "output_type": "execute_result"
    }
   ],
   "source": [
    "df.loc[df['Make'].str.contains('honda', na=False), 'Make'] = 'honda'\n",
    "df['Make'].value_counts()"
   ]
  },
  {
   "cell_type": "code",
   "execution_count": 177,
   "metadata": {},
   "outputs": [
    {
     "data": {
      "text/plain": [
       "Make\n",
       "cessna                            25835\n",
       "piper                             14213\n",
       "beechcraft                         4978\n",
       "bell                               2340\n",
       "grumman                            1597\n",
       "                                  ...  \n",
       "bell-olympic helicopters, inc.        1\n",
       "dart                                  1\n",
       "kociemba robert h                     1\n",
       "engle david                           1\n",
       "orlican s r o                         1\n",
       "Name: count, Length: 1516, dtype: int64"
      ]
     },
     "execution_count": 177,
     "metadata": {},
     "output_type": "execute_result"
    }
   ],
   "source": [
    "df.loc[df['Make'].str.contains('bell textron', na=False), 'Make'] = 'bell textron'\n",
    "df['Make'].value_counts()"
   ]
  },
  {
   "cell_type": "code",
   "execution_count": 178,
   "metadata": {},
   "outputs": [
    {
     "data": {
      "text/plain": [
       "Make\n",
       "cessna                          25835\n",
       "piper                           14213\n",
       "beechcraft                       4978\n",
       "bell                             2340\n",
       "grumman                          1597\n",
       "                                ...  \n",
       "eclipse aviation corporation        1\n",
       "bristol                             1\n",
       "cubcrafter                          1\n",
       "collard                             1\n",
       "orlican s r o                       1\n",
       "Name: count, Length: 1514, dtype: int64"
      ]
     },
     "execution_count": 178,
     "metadata": {},
     "output_type": "execute_result"
    }
   ],
   "source": [
    "df.loc[df['Make'].str.contains('saab', na=False), 'Make'] = 'saab'\n",
    "df['Make'].value_counts()"
   ]
  },
  {
   "cell_type": "code",
   "execution_count": 179,
   "metadata": {},
   "outputs": [
    {
     "data": {
      "text/plain": [
       "Make\n",
       "cessna            25835\n",
       "piper             14213\n",
       "beechcraft         4978\n",
       "bell               2340\n",
       "grumman            1597\n",
       "                  ...  \n",
       "bristol               1\n",
       "cubcrafter            1\n",
       "collard               1\n",
       "gt ultralights        1\n",
       "orlican s r o         1\n",
       "Name: count, Length: 1511, dtype: int64"
      ]
     },
     "execution_count": 179,
     "metadata": {},
     "output_type": "execute_result"
    }
   ],
   "source": [
    "df.loc[df['Make'].str.contains('vodochody', na=False), 'Make'] = 'aero vodochody'\n",
    "df['Make'].value_counts()"
   ]
  },
  {
   "cell_type": "code",
   "execution_count": 180,
   "metadata": {},
   "outputs": [
    {
     "data": {
      "text/plain": [
       "Make\n",
       "cessna                          25835\n",
       "piper                           14213\n",
       "beechcraft                       4978\n",
       "bell                             2340\n",
       "grumman                          1597\n",
       "                                ...  \n",
       "eclipse aviation corporation        1\n",
       "bristol                             1\n",
       "cubcrafter                          1\n",
       "collard                             1\n",
       "orlican s r o                       1\n",
       "Name: count, Length: 1508, dtype: int64"
      ]
     },
     "execution_count": 180,
     "metadata": {},
     "output_type": "execute_result"
    }
   ],
   "source": [
    "df.loc[df['Make'].str.contains('pilatus', na=False), 'Make'] = 'pilatus'\n",
    "df['Make'].value_counts()"
   ]
  },
  {
   "cell_type": "code",
   "execution_count": 181,
   "metadata": {},
   "outputs": [
    {
     "data": {
      "text/plain": [
       "Make\n",
       "cessna                 25835\n",
       "piper                  14213\n",
       "beechcraft              4978\n",
       "bell                    2340\n",
       "grumman                 1597\n",
       "                       ...  \n",
       "ultralight soaring         1\n",
       "dart                       1\n",
       "scheibe flugzeugbau        1\n",
       "kociemba robert h          1\n",
       "orlican s r o              1\n",
       "Name: count, Length: 1505, dtype: int64"
      ]
     },
     "execution_count": 181,
     "metadata": {},
     "output_type": "execute_result"
    }
   ],
   "source": [
    "df.loc[df['Make'].str.contains('piaggio', na=False), 'Make'] = 'piaggio'\n",
    "df['Make'].value_counts()"
   ]
  },
  {
   "cell_type": "code",
   "execution_count": 182,
   "metadata": {},
   "outputs": [
    {
     "data": {
      "text/plain": [
       "Make\n",
       "cessna                          25835\n",
       "piper                           14213\n",
       "beechcraft                       4978\n",
       "bell                             2340\n",
       "grumman                          1597\n",
       "                                ...  \n",
       "wsl pzl                             1\n",
       "eclipse aviation corporation        1\n",
       "bristol                             1\n",
       "cubcrafter                          1\n",
       "orlican s r o                       1\n",
       "Name: count, Length: 1494, dtype: int64"
      ]
     },
     "execution_count": 182,
     "metadata": {},
     "output_type": "execute_result"
    }
   ],
   "source": [
    "df.loc[df['Make'].str.contains('gulfstream', na=False), 'Make'] = 'gulfstream'\n",
    "df['Make'].value_counts()"
   ]
  },
  {
   "cell_type": "code",
   "execution_count": 183,
   "metadata": {},
   "outputs": [
    {
     "data": {
      "text/plain": [
       "Make\n",
       "cessna                          25835\n",
       "piper                           14213\n",
       "beechcraft                       4978\n",
       "bell                             2340\n",
       "grumman                          1597\n",
       "                                ...  \n",
       "wsl pzl                             1\n",
       "eclipse aviation corporation        1\n",
       "bristol                             1\n",
       "cubcrafter                          1\n",
       "orlican s r o                       1\n",
       "Name: count, Length: 1487, dtype: int64"
      ]
     },
     "execution_count": 183,
     "metadata": {},
     "output_type": "execute_result"
    }
   ],
   "source": [
    "df.loc[df['Make'].str.contains('mcdonnell', na=False), 'Make'] = 'mcdonnell douglas'\n",
    "df['Make'].value_counts()"
   ]
  },
  {
   "cell_type": "code",
   "execution_count": 184,
   "metadata": {},
   "outputs": [
    {
     "data": {
      "text/plain": [
       "Make\n",
       "cessna                          25835\n",
       "piper                           14213\n",
       "beechcraft                       4978\n",
       "bell                             2340\n",
       "grumman                          1597\n",
       "                                ...  \n",
       "wsl pzl                             1\n",
       "eclipse aviation corporation        1\n",
       "bristol                             1\n",
       "cubcrafter                          1\n",
       "orlican s r o                       1\n",
       "Name: count, Length: 1481, dtype: int64"
      ]
     },
     "execution_count": 184,
     "metadata": {},
     "output_type": "execute_result"
    }
   ],
   "source": [
    "df.loc[df['Make'].str.contains('fairchild', na=False), 'Make'] = 'fairchild'\n",
    "df['Make'].value_counts()"
   ]
  },
  {
   "cell_type": "code",
   "execution_count": 185,
   "metadata": {},
   "outputs": [
    {
     "data": {
      "text/plain": [
       "Make\n",
       "cessna                          25835\n",
       "piper                           14213\n",
       "beechcraft                       4978\n",
       "bell                             2340\n",
       "grumman                          1597\n",
       "                                ...  \n",
       "wsl pzl                             1\n",
       "eclipse aviation corporation        1\n",
       "bristol                             1\n",
       "cubcrafter                          1\n",
       "orlican s r o                       1\n",
       "Name: count, Length: 1480, dtype: int64"
      ]
     },
     "execution_count": 185,
     "metadata": {},
     "output_type": "execute_result"
    }
   ],
   "source": [
    "df.loc[df['Make'].str.contains('israel', na=False), 'Make'] = 'israel aerospace industries'\n",
    "df['Make'].value_counts()"
   ]
  },
  {
   "cell_type": "code",
   "execution_count": 186,
   "metadata": {},
   "outputs": [
    {
     "data": {
      "text/plain": [
       "Make\n",
       "cessna                          25835\n",
       "piper                           14213\n",
       "beechcraft                       4978\n",
       "bell                             2340\n",
       "grumman                          1597\n",
       "                                ...  \n",
       "wsl pzl                             1\n",
       "eclipse aviation corporation        1\n",
       "bristol                             1\n",
       "cubcrafter                          1\n",
       "orlican s r o                       1\n",
       "Name: count, Length: 1479, dtype: int64"
      ]
     },
     "execution_count": 186,
     "metadata": {},
     "output_type": "execute_result"
    }
   ],
   "source": [
    "df.loc[df['Make'].str.contains('convair', na=False), 'Make'] = 'convair'\n",
    "df['Make'].value_counts()"
   ]
  },
  {
   "cell_type": "code",
   "execution_count": 190,
   "metadata": {},
   "outputs": [],
   "source": [
    "df.to_csv('aircraft_category_filled.csv', index=True)"
   ]
  },
  {
   "cell_type": "markdown",
   "metadata": {},
   "source": [
    "# Cleaning the Model column"
   ]
  },
  {
   "cell_type": "markdown",
   "metadata": {},
   "source": [
    "### Another manual clean-up job"
   ]
  },
  {
   "cell_type": "code",
   "execution_count": 207,
   "metadata": {},
   "outputs": [],
   "source": [
    "df = pd.read_csv('data_cleaned_mostly_clean.csv')"
   ]
  },
  {
   "cell_type": "code",
   "execution_count": 208,
   "metadata": {},
   "outputs": [],
   "source": [
    "# Convert all to upper case and remove leading and trailing spaces\n",
    "df['Model_cleaned'] = df['Model'].str.upper().str.strip()"
   ]
  },
  {
   "cell_type": "code",
   "execution_count": 209,
   "metadata": {},
   "outputs": [],
   "source": [
    "# Replace dashes with spaces\n",
    "df['Model_cleaned'] = df['Model_cleaned'].str.replace('-', ' ', regex=False)"
   ]
  },
  {
   "cell_type": "code",
   "execution_count": 210,
   "metadata": {},
   "outputs": [],
   "source": [
    "# Remove extra spaces by replacing multiple spaces with single space\n",
    "df['Model_cleaned'] = df['Model_cleaned'].str.replace(r'\\s+', ' ', regex=True).str.strip()"
   ]
  },
  {
   "cell_type": "code",
   "execution_count": 211,
   "metadata": {},
   "outputs": [],
   "source": [
    "# Put the final result into a Model_final column\n",
    "df['Model_final'] = df['Model_cleaned']"
   ]
  },
  {
   "cell_type": "code",
   "execution_count": null,
   "metadata": {},
   "outputs": [],
   "source": [
    "# Put the final result into a Model_final column\n",
    "df['Model_final'] = df['Model_cleaned']"
   ]
  },
  {
   "cell_type": "code",
   "execution_count": 212,
   "metadata": {},
   "outputs": [
    {
     "name": "stdout",
     "output_type": "stream",
     "text": [
      "<class 'pandas.core.frame.DataFrame'>\n",
      "RangeIndex: 37910 entries, 0 to 37909\n",
      "Data columns (total 21 columns):\n",
      " #   Column             Non-Null Count  Dtype  \n",
      "---  ------             --------------  -----  \n",
      " 0   Unnamed: 0         37910 non-null  int64  \n",
      " 1   Date               37910 non-null  object \n",
      " 2   Location           37908 non-null  object \n",
      " 3   Country            37910 non-null  object \n",
      " 4   Injury_Severity    37910 non-null  object \n",
      " 5   Damage_Type        37461 non-null  object \n",
      " 6   Aircraft_Category  37910 non-null  object \n",
      " 7   Make               37910 non-null  object \n",
      " 8   Model              37910 non-null  object \n",
      " 9   Engines            37910 non-null  float64\n",
      " 10  Engine_Type        36837 non-null  object \n",
      " 11  Fatal_Injuries     37910 non-null  float64\n",
      " 12  Serious_Injuries   37910 non-null  float64\n",
      " 13  Minor_Injuries     37910 non-null  float64\n",
      " 14  Uninjured          37910 non-null  float64\n",
      " 15  Weather            37649 non-null  object \n",
      " 16  Total_Passengers   37910 non-null  float64\n",
      " 17  Year               37910 non-null  int64  \n",
      " 18  Month              37910 non-null  int64  \n",
      " 19  Model_cleaned      37910 non-null  object \n",
      " 20  Model_final        37910 non-null  object \n",
      "dtypes: float64(6), int64(3), object(12)\n",
      "memory usage: 6.1+ MB\n"
     ]
    }
   ],
   "source": [
    "df.info()"
   ]
  },
  {
   "cell_type": "code",
   "execution_count": 215,
   "metadata": {},
   "outputs": [
    {
     "name": "stdout",
     "output_type": "stream",
     "text": [
      "<class 'pandas.core.frame.DataFrame'>\n",
      "RangeIndex: 37910 entries, 0 to 37909\n",
      "Data columns (total 18 columns):\n",
      " #   Column             Non-Null Count  Dtype  \n",
      "---  ------             --------------  -----  \n",
      " 0   Date               37910 non-null  object \n",
      " 1   Location           37908 non-null  object \n",
      " 2   Country            37910 non-null  object \n",
      " 3   Injury_Severity    37910 non-null  object \n",
      " 4   Damage_Type        37461 non-null  object \n",
      " 5   Aircraft_Category  37910 non-null  object \n",
      " 6   Make               37910 non-null  object \n",
      " 7   Engines            37910 non-null  float64\n",
      " 8   Engine_Type        36837 non-null  object \n",
      " 9   Fatal_Injuries     37910 non-null  float64\n",
      " 10  Serious_Injuries   37910 non-null  float64\n",
      " 11  Minor_Injuries     37910 non-null  float64\n",
      " 12  Uninjured          37910 non-null  float64\n",
      " 13  Weather            37649 non-null  object \n",
      " 14  Total_Passengers   37910 non-null  float64\n",
      " 15  Year               37910 non-null  int64  \n",
      " 16  Month              37910 non-null  int64  \n",
      " 17  Model_final        37910 non-null  object \n",
      "dtypes: float64(6), int64(2), object(10)\n",
      "memory usage: 5.2+ MB\n"
     ]
    }
   ],
   "source": [
    "# Drop unnecessary columns that came from not using index=False argument in the to_csv method\n",
    "df = df.drop(columns=['Unnamed: 0', 'Model', 'Model_cleaned'])\n",
    "df.info()"
   ]
  },
  {
   "cell_type": "code",
   "execution_count": 216,
   "metadata": {},
   "outputs": [],
   "source": [
    "# Save to data_cleaned_final.csv \n",
    "df.to_csv('data_cleaned_final.csv', index=False)"
   ]
  }
 ],
 "metadata": {
  "kernelspec": {
   "display_name": "learn-env",
   "language": "python",
   "name": "python3"
  },
  "language_info": {
   "codemirror_mode": {
    "name": "ipython",
    "version": 3
   },
   "file_extension": ".py",
   "mimetype": "text/x-python",
   "name": "python",
   "nbconvert_exporter": "python",
   "pygments_lexer": "ipython3",
   "version": "3.12.2"
  }
 },
 "nbformat": 4,
 "nbformat_minor": 2
}
