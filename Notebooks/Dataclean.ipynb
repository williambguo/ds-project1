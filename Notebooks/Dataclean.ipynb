{
 "cells": [
  {
   "cell_type": "markdown",
   "metadata": {},
   "source": [
    "# Data Cleaning"
   ]
  },
  {
   "cell_type": "markdown",
   "metadata": {},
   "source": [
    "<center><img src=\"https://en.meming.world/images/en/a/ab/Traumatized_Mr._Incredible.jpg\" title=\"Before and after data cleaning\"/></center>"
   ]
  },
  {
   "cell_type": "markdown",
   "metadata": {},
   "source": [
    "<center> Before and after data cleaning </center>"
   ]
  },
  {
   "cell_type": "code",
   "execution_count": 2,
   "metadata": {},
   "outputs": [],
   "source": [
    "#Importing relevant libraries\n",
    "import pandas as pd \n",
    "import numpy as np \n",
    "import matplotlib.pyplot as plt \n",
    "import seaborn as sns\n"
   ]
  },
  {
   "cell_type": "code",
   "execution_count": 3,
   "metadata": {},
   "outputs": [
    {
     "data": {
      "text/plain": [
       "Index(['Event.Id', 'Investigation.Type', 'Accident.Number', 'Event.Date',\n",
       "       'Location', 'Country', 'Latitude', 'Longitude', 'Airport.Code',\n",
       "       'Airport.Name', 'Injury.Severity', 'Aircraft.damage',\n",
       "       'Aircraft.Category', 'Registration.Number', 'Make', 'Model',\n",
       "       'Amateur.Built', 'Number.of.Engines', 'Engine.Type', 'FAR.Description',\n",
       "       'Schedule', 'Purpose.of.flight', 'Air.carrier', 'Total.Fatal.Injuries',\n",
       "       'Total.Serious.Injuries', 'Total.Minor.Injuries', 'Total.Uninjured',\n",
       "       'Weather.Condition', 'Broad.phase.of.flight', 'Report.Status',\n",
       "       'Publication.Date'],\n",
       "      dtype='object')"
      ]
     },
     "execution_count": 3,
     "metadata": {},
     "output_type": "execute_result"
    }
   ],
   "source": [
    "# Importing our data file\n",
    "df_original = pd.read_csv('../Data/AviationData.csv', encoding='latin1', low_memory=False)\n",
    "\n",
    "# Making a copy of the original dataframe in case I need it\n",
    "df = df_original.copy()\n",
    "\n",
    "# Listing the columns out to for pruning columns that are irrelevant to our goal\n",
    "df.columns"
   ]
  },
  {
   "cell_type": "markdown",
   "metadata": {},
   "source": [
    "# Foreword\n",
    "\n",
    "Most of the data cleaning is done is contained in this notebook with a couple of exceptions. String cleaning for the Make and Model column are done in the stringcleaning.ipynb notebook and then utilized both in here and EDA later on. Further pruning of the dataset was done in EDA as the need arose. "
   ]
  },
  {
   "cell_type": "markdown",
   "metadata": {},
   "source": [
    "## Data cleaning to-do list\n",
    "\n",
    "\n",
    "1. Drop irrelevant columns\n",
    "2. Deal with missing values\n",
    "3. Clean up rows/intra-column clean-up: filter Investigation.Type (now Type) to only accidents, Amateur.Built to only include non-amateur aircraft, (*maybe*) Number.of.Engine to only 1 & 2, and other stuff\n",
    "4. Check remaining columns if you want em\n",
    "5. Replace all null values in passenger numbers with 0 (assumption here is that all nulls are 0s that were not manually entered into data)\n",
    "6. Clean up duplicates in the Make column"
   ]
  },
  {
   "cell_type": "markdown",
   "metadata": {},
   "source": [
    "<center><img src=\"https://cdn-icons-png.flaticon.com/512/10179/10179118.png\" width=\"260\" height=\"260\"/></center>"
   ]
  },
  {
   "cell_type": "markdown",
   "metadata": {},
   "source": [
    "### __1. Column cleaning__"
   ]
  },
  {
   "cell_type": "code",
   "execution_count": 4,
   "metadata": {},
   "outputs": [
    {
     "data": {
      "text/plain": [
       "Index(['Investigation.Type', 'Event.Date', 'Location', 'Country',\n",
       "       'Injury.Severity', 'Aircraft.damage', 'Aircraft.Category', 'Make',\n",
       "       'Model', 'Amateur.Built', 'Number.of.Engines', 'Engine.Type',\n",
       "       'Schedule', 'Total.Fatal.Injuries', 'Total.Serious.Injuries',\n",
       "       'Total.Minor.Injuries', 'Total.Uninjured', 'Weather.Condition',\n",
       "       'Broad.phase.of.flight'],\n",
       "      dtype='object')"
      ]
     },
     "execution_count": 4,
     "metadata": {},
     "output_type": "execute_result"
    }
   ],
   "source": [
    "# Dropping all irrelevant columns\n",
    "irrelevant_columns = ['Event.Id', 'Accident.Number', 'Latitude', 'Longitude', 'Airport.Code', 'Airport.Name', \n",
    "'Registration.Number', 'FAR.Description', 'Purpose.of.flight', 'Air.carrier', 'Report.Status', 'Publication.Date']\n",
    "\n",
    "df = df.drop(columns=irrelevant_columns)\n",
    "df.columns"
   ]
  },
  {
   "cell_type": "code",
   "execution_count": 5,
   "metadata": {},
   "outputs": [
    {
     "data": {
      "text/plain": [
       "Investigation.Type            0\n",
       "Event.Date                    0\n",
       "Location                     52\n",
       "Country                     226\n",
       "Injury.Severity            1000\n",
       "Aircraft.damage            3194\n",
       "Aircraft.Category         56602\n",
       "Make                         63\n",
       "Model                        92\n",
       "Amateur.Built               102\n",
       "Number.of.Engines          6084\n",
       "Engine.Type                7096\n",
       "Schedule                  76307\n",
       "Total.Fatal.Injuries      11401\n",
       "Total.Serious.Injuries    12510\n",
       "Total.Minor.Injuries      11933\n",
       "Total.Uninjured            5912\n",
       "Weather.Condition          4492\n",
       "Broad.phase.of.flight     27165\n",
       "dtype: int64"
      ]
     },
     "execution_count": 5,
     "metadata": {},
     "output_type": "execute_result"
    }
   ],
   "source": [
    "# Checking for the number of missing values in our remaining columns\n",
    "df.isna().sum()"
   ]
  },
  {
   "cell_type": "code",
   "execution_count": 6,
   "metadata": {},
   "outputs": [
    {
     "data": {
      "text/plain": [
       "Index(['Investigation.Type', 'Event.Date', 'Location', 'Country',\n",
       "       'Injury.Severity', 'Aircraft.damage', 'Aircraft.Category', 'Make',\n",
       "       'Model', 'Amateur.Built', 'Number.of.Engines', 'Engine.Type',\n",
       "       'Total.Fatal.Injuries', 'Total.Serious.Injuries',\n",
       "       'Total.Minor.Injuries', 'Total.Uninjured', 'Weather.Condition'],\n",
       "      dtype='object')"
      ]
     },
     "execution_count": 6,
     "metadata": {},
     "output_type": "execute_result"
    }
   ],
   "source": [
    "# Further pruning of columns with more than 25% of its data missing\n",
    "df = df.drop(columns=['Schedule', 'Broad.phase.of.flight'])\n",
    "df.columns"
   ]
  },
  {
   "cell_type": "code",
   "execution_count": 7,
   "metadata": {},
   "outputs": [],
   "source": [
    "# Renaming columns\n",
    "new_column_names = {'Investigation.Type': 'Type', 'Event.Date': 'Date', 'Injury.Severity': 'Injury_Severity', 'Aircraft.damage': 'Damage_Type', \n",
    "'Number.of.Engines': 'Engines', 'Engine.Type': 'Engine_Type', 'Total.Fatal.Injuries': 'Fatal_Injuries', 'Total.Serious.Injuries': 'Serious_Injuries', \n",
    "'Total.Minor.Injuries': 'Minor_Injuries', 'Total.Uninjured': 'Uninjured', 'Weather.Condition': 'Weather', 'Amateur.Built': 'Amateur_Built',\n",
    "'Aircraft.Category': 'Aircraft_Category'}\n",
    "df.rename(columns=new_column_names, inplace=True)"
   ]
  },
  {
   "cell_type": "code",
   "execution_count": 8,
   "metadata": {},
   "outputs": [
    {
     "data": {
      "text/html": [
       "<div>\n",
       "<style scoped>\n",
       "    .dataframe tbody tr th:only-of-type {\n",
       "        vertical-align: middle;\n",
       "    }\n",
       "\n",
       "    .dataframe tbody tr th {\n",
       "        vertical-align: top;\n",
       "    }\n",
       "\n",
       "    .dataframe thead th {\n",
       "        text-align: right;\n",
       "    }\n",
       "</style>\n",
       "<table border=\"1\" class=\"dataframe\">\n",
       "  <thead>\n",
       "    <tr style=\"text-align: right;\">\n",
       "      <th></th>\n",
       "      <th>Type</th>\n",
       "      <th>Date</th>\n",
       "      <th>Location</th>\n",
       "      <th>Country</th>\n",
       "      <th>Injury_Severity</th>\n",
       "      <th>Damage_Type</th>\n",
       "      <th>Aircraft_Category</th>\n",
       "      <th>Make</th>\n",
       "      <th>Model</th>\n",
       "      <th>Amateur_Built</th>\n",
       "      <th>Engines</th>\n",
       "      <th>Engine_Type</th>\n",
       "      <th>Fatal_Injuries</th>\n",
       "      <th>Serious_Injuries</th>\n",
       "      <th>Minor_Injuries</th>\n",
       "      <th>Uninjured</th>\n",
       "      <th>Weather</th>\n",
       "    </tr>\n",
       "  </thead>\n",
       "  <tbody>\n",
       "    <tr>\n",
       "      <th>0</th>\n",
       "      <td>Accident</td>\n",
       "      <td>1948-10-24</td>\n",
       "      <td>MOOSE CREEK, ID</td>\n",
       "      <td>United States</td>\n",
       "      <td>Fatal(2)</td>\n",
       "      <td>Destroyed</td>\n",
       "      <td>NaN</td>\n",
       "      <td>Stinson</td>\n",
       "      <td>108-3</td>\n",
       "      <td>No</td>\n",
       "      <td>1.0</td>\n",
       "      <td>Reciprocating</td>\n",
       "      <td>2.0</td>\n",
       "      <td>0.0</td>\n",
       "      <td>0.0</td>\n",
       "      <td>0.0</td>\n",
       "      <td>UNK</td>\n",
       "    </tr>\n",
       "    <tr>\n",
       "      <th>1</th>\n",
       "      <td>Accident</td>\n",
       "      <td>1962-07-19</td>\n",
       "      <td>BRIDGEPORT, CA</td>\n",
       "      <td>United States</td>\n",
       "      <td>Fatal(4)</td>\n",
       "      <td>Destroyed</td>\n",
       "      <td>NaN</td>\n",
       "      <td>Piper</td>\n",
       "      <td>PA24-180</td>\n",
       "      <td>No</td>\n",
       "      <td>1.0</td>\n",
       "      <td>Reciprocating</td>\n",
       "      <td>4.0</td>\n",
       "      <td>0.0</td>\n",
       "      <td>0.0</td>\n",
       "      <td>0.0</td>\n",
       "      <td>UNK</td>\n",
       "    </tr>\n",
       "    <tr>\n",
       "      <th>2</th>\n",
       "      <td>Accident</td>\n",
       "      <td>1974-08-30</td>\n",
       "      <td>Saltville, VA</td>\n",
       "      <td>United States</td>\n",
       "      <td>Fatal(3)</td>\n",
       "      <td>Destroyed</td>\n",
       "      <td>NaN</td>\n",
       "      <td>Cessna</td>\n",
       "      <td>172M</td>\n",
       "      <td>No</td>\n",
       "      <td>1.0</td>\n",
       "      <td>Reciprocating</td>\n",
       "      <td>3.0</td>\n",
       "      <td>NaN</td>\n",
       "      <td>NaN</td>\n",
       "      <td>NaN</td>\n",
       "      <td>IMC</td>\n",
       "    </tr>\n",
       "    <tr>\n",
       "      <th>3</th>\n",
       "      <td>Accident</td>\n",
       "      <td>1977-06-19</td>\n",
       "      <td>EUREKA, CA</td>\n",
       "      <td>United States</td>\n",
       "      <td>Fatal(2)</td>\n",
       "      <td>Destroyed</td>\n",
       "      <td>NaN</td>\n",
       "      <td>Rockwell</td>\n",
       "      <td>112</td>\n",
       "      <td>No</td>\n",
       "      <td>1.0</td>\n",
       "      <td>Reciprocating</td>\n",
       "      <td>2.0</td>\n",
       "      <td>0.0</td>\n",
       "      <td>0.0</td>\n",
       "      <td>0.0</td>\n",
       "      <td>IMC</td>\n",
       "    </tr>\n",
       "    <tr>\n",
       "      <th>4</th>\n",
       "      <td>Accident</td>\n",
       "      <td>1979-08-02</td>\n",
       "      <td>Canton, OH</td>\n",
       "      <td>United States</td>\n",
       "      <td>Fatal(1)</td>\n",
       "      <td>Destroyed</td>\n",
       "      <td>NaN</td>\n",
       "      <td>Cessna</td>\n",
       "      <td>501</td>\n",
       "      <td>No</td>\n",
       "      <td>NaN</td>\n",
       "      <td>NaN</td>\n",
       "      <td>1.0</td>\n",
       "      <td>2.0</td>\n",
       "      <td>NaN</td>\n",
       "      <td>0.0</td>\n",
       "      <td>VMC</td>\n",
       "    </tr>\n",
       "  </tbody>\n",
       "</table>\n",
       "</div>"
      ],
      "text/plain": [
       "       Type        Date         Location        Country Injury_Severity  \\\n",
       "0  Accident  1948-10-24  MOOSE CREEK, ID  United States        Fatal(2)   \n",
       "1  Accident  1962-07-19   BRIDGEPORT, CA  United States        Fatal(4)   \n",
       "2  Accident  1974-08-30    Saltville, VA  United States        Fatal(3)   \n",
       "3  Accident  1977-06-19       EUREKA, CA  United States        Fatal(2)   \n",
       "4  Accident  1979-08-02       Canton, OH  United States        Fatal(1)   \n",
       "\n",
       "  Damage_Type Aircraft_Category      Make     Model Amateur_Built  Engines  \\\n",
       "0   Destroyed               NaN   Stinson     108-3            No      1.0   \n",
       "1   Destroyed               NaN     Piper  PA24-180            No      1.0   \n",
       "2   Destroyed               NaN    Cessna      172M            No      1.0   \n",
       "3   Destroyed               NaN  Rockwell       112            No      1.0   \n",
       "4   Destroyed               NaN    Cessna       501            No      NaN   \n",
       "\n",
       "     Engine_Type  Fatal_Injuries  Serious_Injuries  Minor_Injuries  Uninjured  \\\n",
       "0  Reciprocating             2.0               0.0             0.0        0.0   \n",
       "1  Reciprocating             4.0               0.0             0.0        0.0   \n",
       "2  Reciprocating             3.0               NaN             NaN        NaN   \n",
       "3  Reciprocating             2.0               0.0             0.0        0.0   \n",
       "4            NaN             1.0               2.0             NaN        0.0   \n",
       "\n",
       "  Weather  \n",
       "0     UNK  \n",
       "1     UNK  \n",
       "2     IMC  \n",
       "3     IMC  \n",
       "4     VMC  "
      ]
     },
     "execution_count": 8,
     "metadata": {},
     "output_type": "execute_result"
    }
   ],
   "source": [
    "df.head()"
   ]
  },
  {
   "cell_type": "markdown",
   "metadata": {},
   "source": [
    "#### 1.1 Injury_Severity pruning"
   ]
  },
  {
   "cell_type": "code",
   "execution_count": 9,
   "metadata": {},
   "outputs": [
    {
     "data": {
      "text/plain": [
       "50201.0"
      ]
     },
     "execution_count": 9,
     "metadata": {},
     "output_type": "execute_result"
    }
   ],
   "source": [
    "df['Fatal_Injuries'].sum()"
   ]
  },
  {
   "cell_type": "code",
   "execution_count": 10,
   "metadata": {},
   "outputs": [
    {
     "data": {
      "text/plain": [
       "35617.0"
      ]
     },
     "execution_count": 10,
     "metadata": {},
     "output_type": "execute_result"
    }
   ],
   "source": [
    "# Creating a new column 'Fatality' to extract the bracketed number of fatalities from the 'Injury_Severity' column\n",
    "df['Fatality'] = df['Injury_Severity'].str.extract(r'\\((\\d+)\\)')\n",
    "\n",
    "df['Fatality'] = pd.to_numeric(df['Fatality'])\n",
    "\n",
    "df['Fatality'].sum()"
   ]
  },
  {
   "cell_type": "code",
   "execution_count": 11,
   "metadata": {},
   "outputs": [
    {
     "data": {
      "text/html": [
       "<div>\n",
       "<style scoped>\n",
       "    .dataframe tbody tr th:only-of-type {\n",
       "        vertical-align: middle;\n",
       "    }\n",
       "\n",
       "    .dataframe tbody tr th {\n",
       "        vertical-align: top;\n",
       "    }\n",
       "\n",
       "    .dataframe thead th {\n",
       "        text-align: right;\n",
       "    }\n",
       "</style>\n",
       "<table border=\"1\" class=\"dataframe\">\n",
       "  <thead>\n",
       "    <tr style=\"text-align: right;\">\n",
       "      <th></th>\n",
       "      <th>Type</th>\n",
       "      <th>Date</th>\n",
       "      <th>Location</th>\n",
       "      <th>Country</th>\n",
       "      <th>Injury_Severity</th>\n",
       "      <th>Damage_Type</th>\n",
       "      <th>Aircraft_Category</th>\n",
       "      <th>Make</th>\n",
       "      <th>Model</th>\n",
       "      <th>Amateur_Built</th>\n",
       "      <th>Engines</th>\n",
       "      <th>Engine_Type</th>\n",
       "      <th>Fatal_Injuries</th>\n",
       "      <th>Serious_Injuries</th>\n",
       "      <th>Minor_Injuries</th>\n",
       "      <th>Uninjured</th>\n",
       "      <th>Weather</th>\n",
       "      <th>Fatality</th>\n",
       "    </tr>\n",
       "  </thead>\n",
       "  <tbody>\n",
       "  </tbody>\n",
       "</table>\n",
       "</div>"
      ],
      "text/plain": [
       "Empty DataFrame\n",
       "Columns: [Type, Date, Location, Country, Injury_Severity, Damage_Type, Aircraft_Category, Make, Model, Amateur_Built, Engines, Engine_Type, Fatal_Injuries, Serious_Injuries, Minor_Injuries, Uninjured, Weather, Fatality]\n",
       "Index: []"
      ]
     },
     "execution_count": 11,
     "metadata": {},
     "output_type": "execute_result"
    }
   ],
   "source": [
    "# Checking if there are rows where Fatal_Injuries contains a 0 and Fatality is bigger than 0\n",
    "df.loc[(df['Fatal_Injuries'] == 0) & (df['Fatality'] > 0)]"
   ]
  },
  {
   "cell_type": "code",
   "execution_count": 12,
   "metadata": {},
   "outputs": [
    {
     "data": {
      "text/html": [
       "<div>\n",
       "<style scoped>\n",
       "    .dataframe tbody tr th:only-of-type {\n",
       "        vertical-align: middle;\n",
       "    }\n",
       "\n",
       "    .dataframe tbody tr th {\n",
       "        vertical-align: top;\n",
       "    }\n",
       "\n",
       "    .dataframe thead th {\n",
       "        text-align: right;\n",
       "    }\n",
       "</style>\n",
       "<table border=\"1\" class=\"dataframe\">\n",
       "  <thead>\n",
       "    <tr style=\"text-align: right;\">\n",
       "      <th></th>\n",
       "      <th>Type</th>\n",
       "      <th>Date</th>\n",
       "      <th>Location</th>\n",
       "      <th>Country</th>\n",
       "      <th>Injury_Severity</th>\n",
       "      <th>Damage_Type</th>\n",
       "      <th>Aircraft_Category</th>\n",
       "      <th>Make</th>\n",
       "      <th>Model</th>\n",
       "      <th>Amateur_Built</th>\n",
       "      <th>Engines</th>\n",
       "      <th>Engine_Type</th>\n",
       "      <th>Fatal_Injuries</th>\n",
       "      <th>Serious_Injuries</th>\n",
       "      <th>Minor_Injuries</th>\n",
       "      <th>Uninjured</th>\n",
       "      <th>Weather</th>\n",
       "      <th>Fatality</th>\n",
       "    </tr>\n",
       "  </thead>\n",
       "  <tbody>\n",
       "  </tbody>\n",
       "</table>\n",
       "</div>"
      ],
      "text/plain": [
       "Empty DataFrame\n",
       "Columns: [Type, Date, Location, Country, Injury_Severity, Damage_Type, Aircraft_Category, Make, Model, Amateur_Built, Engines, Engine_Type, Fatal_Injuries, Serious_Injuries, Minor_Injuries, Uninjured, Weather, Fatality]\n",
       "Index: []"
      ]
     },
     "execution_count": 12,
     "metadata": {},
     "output_type": "execute_result"
    }
   ],
   "source": [
    "# Checking if there are rows where Fatal_Injuries is bigger than 0 while Fatality is 0\n",
    "df.loc[(df['Fatal_Injuries'] > 0) & (df['Fatality'] == 0)]"
   ]
  },
  {
   "cell_type": "code",
   "execution_count": 13,
   "metadata": {},
   "outputs": [
    {
     "data": {
      "text/html": [
       "<div>\n",
       "<style scoped>\n",
       "    .dataframe tbody tr th:only-of-type {\n",
       "        vertical-align: middle;\n",
       "    }\n",
       "\n",
       "    .dataframe tbody tr th {\n",
       "        vertical-align: top;\n",
       "    }\n",
       "\n",
       "    .dataframe thead th {\n",
       "        text-align: right;\n",
       "    }\n",
       "</style>\n",
       "<table border=\"1\" class=\"dataframe\">\n",
       "  <thead>\n",
       "    <tr style=\"text-align: right;\">\n",
       "      <th></th>\n",
       "      <th>Type</th>\n",
       "      <th>Date</th>\n",
       "      <th>Location</th>\n",
       "      <th>Country</th>\n",
       "      <th>Injury_Severity</th>\n",
       "      <th>Damage_Type</th>\n",
       "      <th>Aircraft_Category</th>\n",
       "      <th>Make</th>\n",
       "      <th>Model</th>\n",
       "      <th>Amateur_Built</th>\n",
       "      <th>Engines</th>\n",
       "      <th>Engine_Type</th>\n",
       "      <th>Fatal_Injuries</th>\n",
       "      <th>Serious_Injuries</th>\n",
       "      <th>Minor_Injuries</th>\n",
       "      <th>Uninjured</th>\n",
       "      <th>Weather</th>\n",
       "      <th>Fatality</th>\n",
       "    </tr>\n",
       "  </thead>\n",
       "  <tbody>\n",
       "  </tbody>\n",
       "</table>\n",
       "</div>"
      ],
      "text/plain": [
       "Empty DataFrame\n",
       "Columns: [Type, Date, Location, Country, Injury_Severity, Damage_Type, Aircraft_Category, Make, Model, Amateur_Built, Engines, Engine_Type, Fatal_Injuries, Serious_Injuries, Minor_Injuries, Uninjured, Weather, Fatality]\n",
       "Index: []"
      ]
     },
     "execution_count": 13,
     "metadata": {},
     "output_type": "execute_result"
    }
   ],
   "source": [
    "# Checking if there are rows where Fatal_Injuries is null than 0 while Fatality is not null\n",
    "df.loc[(df['Fatal_Injuries'].isna()) & (df['Fatality'].notna())]"
   ]
  },
  {
   "cell_type": "code",
   "execution_count": 14,
   "metadata": {},
   "outputs": [
    {
     "data": {
      "text/html": [
       "<div>\n",
       "<style scoped>\n",
       "    .dataframe tbody tr th:only-of-type {\n",
       "        vertical-align: middle;\n",
       "    }\n",
       "\n",
       "    .dataframe tbody tr th {\n",
       "        vertical-align: top;\n",
       "    }\n",
       "\n",
       "    .dataframe thead th {\n",
       "        text-align: right;\n",
       "    }\n",
       "</style>\n",
       "<table border=\"1\" class=\"dataframe\">\n",
       "  <thead>\n",
       "    <tr style=\"text-align: right;\">\n",
       "      <th></th>\n",
       "      <th>Type</th>\n",
       "      <th>Date</th>\n",
       "      <th>Location</th>\n",
       "      <th>Country</th>\n",
       "      <th>Injury_Severity</th>\n",
       "      <th>Damage_Type</th>\n",
       "      <th>Aircraft_Category</th>\n",
       "      <th>Make</th>\n",
       "      <th>Model</th>\n",
       "      <th>Amateur_Built</th>\n",
       "      <th>Engines</th>\n",
       "      <th>Engine_Type</th>\n",
       "      <th>Fatal_Injuries</th>\n",
       "      <th>Serious_Injuries</th>\n",
       "      <th>Minor_Injuries</th>\n",
       "      <th>Uninjured</th>\n",
       "      <th>Weather</th>\n",
       "      <th>Fatality</th>\n",
       "    </tr>\n",
       "  </thead>\n",
       "  <tbody>\n",
       "    <tr>\n",
       "      <th>7</th>\n",
       "      <td>Accident</td>\n",
       "      <td>1982-01-01</td>\n",
       "      <td>PULLMAN, WA</td>\n",
       "      <td>United States</td>\n",
       "      <td>Non-Fatal</td>\n",
       "      <td>Substantial</td>\n",
       "      <td>Airplane</td>\n",
       "      <td>Cessna</td>\n",
       "      <td>140</td>\n",
       "      <td>No</td>\n",
       "      <td>1.0</td>\n",
       "      <td>Reciprocating</td>\n",
       "      <td>0.0</td>\n",
       "      <td>0.0</td>\n",
       "      <td>0.0</td>\n",
       "      <td>2.0</td>\n",
       "      <td>VMC</td>\n",
       "      <td>NaN</td>\n",
       "    </tr>\n",
       "    <tr>\n",
       "      <th>8</th>\n",
       "      <td>Accident</td>\n",
       "      <td>1982-01-01</td>\n",
       "      <td>EAST HANOVER, NJ</td>\n",
       "      <td>United States</td>\n",
       "      <td>Non-Fatal</td>\n",
       "      <td>Substantial</td>\n",
       "      <td>Airplane</td>\n",
       "      <td>Cessna</td>\n",
       "      <td>401B</td>\n",
       "      <td>No</td>\n",
       "      <td>2.0</td>\n",
       "      <td>Reciprocating</td>\n",
       "      <td>0.0</td>\n",
       "      <td>0.0</td>\n",
       "      <td>0.0</td>\n",
       "      <td>2.0</td>\n",
       "      <td>IMC</td>\n",
       "      <td>NaN</td>\n",
       "    </tr>\n",
       "    <tr>\n",
       "      <th>9</th>\n",
       "      <td>Accident</td>\n",
       "      <td>1982-01-01</td>\n",
       "      <td>JACKSONVILLE, FL</td>\n",
       "      <td>United States</td>\n",
       "      <td>Non-Fatal</td>\n",
       "      <td>Substantial</td>\n",
       "      <td>NaN</td>\n",
       "      <td>North American</td>\n",
       "      <td>NAVION L-17B</td>\n",
       "      <td>No</td>\n",
       "      <td>1.0</td>\n",
       "      <td>Reciprocating</td>\n",
       "      <td>0.0</td>\n",
       "      <td>0.0</td>\n",
       "      <td>3.0</td>\n",
       "      <td>0.0</td>\n",
       "      <td>IMC</td>\n",
       "      <td>NaN</td>\n",
       "    </tr>\n",
       "    <tr>\n",
       "      <th>10</th>\n",
       "      <td>Accident</td>\n",
       "      <td>1982-01-01</td>\n",
       "      <td>HOBBS, NM</td>\n",
       "      <td>United States</td>\n",
       "      <td>Non-Fatal</td>\n",
       "      <td>Substantial</td>\n",
       "      <td>NaN</td>\n",
       "      <td>Piper</td>\n",
       "      <td>PA-28-161</td>\n",
       "      <td>No</td>\n",
       "      <td>1.0</td>\n",
       "      <td>Reciprocating</td>\n",
       "      <td>0.0</td>\n",
       "      <td>0.0</td>\n",
       "      <td>0.0</td>\n",
       "      <td>1.0</td>\n",
       "      <td>VMC</td>\n",
       "      <td>NaN</td>\n",
       "    </tr>\n",
       "    <tr>\n",
       "      <th>11</th>\n",
       "      <td>Accident</td>\n",
       "      <td>1982-01-01</td>\n",
       "      <td>TUSKEGEE, AL</td>\n",
       "      <td>United States</td>\n",
       "      <td>Non-Fatal</td>\n",
       "      <td>Substantial</td>\n",
       "      <td>NaN</td>\n",
       "      <td>Beech</td>\n",
       "      <td>V35B</td>\n",
       "      <td>No</td>\n",
       "      <td>1.0</td>\n",
       "      <td>Reciprocating</td>\n",
       "      <td>0.0</td>\n",
       "      <td>0.0</td>\n",
       "      <td>0.0</td>\n",
       "      <td>1.0</td>\n",
       "      <td>VMC</td>\n",
       "      <td>NaN</td>\n",
       "    </tr>\n",
       "    <tr>\n",
       "      <th>...</th>\n",
       "      <td>...</td>\n",
       "      <td>...</td>\n",
       "      <td>...</td>\n",
       "      <td>...</td>\n",
       "      <td>...</td>\n",
       "      <td>...</td>\n",
       "      <td>...</td>\n",
       "      <td>...</td>\n",
       "      <td>...</td>\n",
       "      <td>...</td>\n",
       "      <td>...</td>\n",
       "      <td>...</td>\n",
       "      <td>...</td>\n",
       "      <td>...</td>\n",
       "      <td>...</td>\n",
       "      <td>...</td>\n",
       "      <td>...</td>\n",
       "      <td>...</td>\n",
       "    </tr>\n",
       "    <tr>\n",
       "      <th>88884</th>\n",
       "      <td>Accident</td>\n",
       "      <td>2022-12-26</td>\n",
       "      <td>Annapolis, MD</td>\n",
       "      <td>United States</td>\n",
       "      <td>Minor</td>\n",
       "      <td>NaN</td>\n",
       "      <td>NaN</td>\n",
       "      <td>PIPER</td>\n",
       "      <td>PA-28-151</td>\n",
       "      <td>No</td>\n",
       "      <td>NaN</td>\n",
       "      <td>NaN</td>\n",
       "      <td>0.0</td>\n",
       "      <td>1.0</td>\n",
       "      <td>0.0</td>\n",
       "      <td>0.0</td>\n",
       "      <td>NaN</td>\n",
       "      <td>NaN</td>\n",
       "    </tr>\n",
       "    <tr>\n",
       "      <th>88885</th>\n",
       "      <td>Accident</td>\n",
       "      <td>2022-12-26</td>\n",
       "      <td>Hampton, NH</td>\n",
       "      <td>United States</td>\n",
       "      <td>NaN</td>\n",
       "      <td>NaN</td>\n",
       "      <td>NaN</td>\n",
       "      <td>BELLANCA</td>\n",
       "      <td>7ECA</td>\n",
       "      <td>No</td>\n",
       "      <td>NaN</td>\n",
       "      <td>NaN</td>\n",
       "      <td>0.0</td>\n",
       "      <td>0.0</td>\n",
       "      <td>0.0</td>\n",
       "      <td>0.0</td>\n",
       "      <td>NaN</td>\n",
       "      <td>NaN</td>\n",
       "    </tr>\n",
       "    <tr>\n",
       "      <th>88886</th>\n",
       "      <td>Accident</td>\n",
       "      <td>2022-12-26</td>\n",
       "      <td>Payson, AZ</td>\n",
       "      <td>United States</td>\n",
       "      <td>Non-Fatal</td>\n",
       "      <td>Substantial</td>\n",
       "      <td>Airplane</td>\n",
       "      <td>AMERICAN CHAMPION AIRCRAFT</td>\n",
       "      <td>8GCBC</td>\n",
       "      <td>No</td>\n",
       "      <td>1.0</td>\n",
       "      <td>NaN</td>\n",
       "      <td>0.0</td>\n",
       "      <td>0.0</td>\n",
       "      <td>0.0</td>\n",
       "      <td>1.0</td>\n",
       "      <td>VMC</td>\n",
       "      <td>NaN</td>\n",
       "    </tr>\n",
       "    <tr>\n",
       "      <th>88887</th>\n",
       "      <td>Accident</td>\n",
       "      <td>2022-12-26</td>\n",
       "      <td>Morgan, UT</td>\n",
       "      <td>United States</td>\n",
       "      <td>NaN</td>\n",
       "      <td>NaN</td>\n",
       "      <td>NaN</td>\n",
       "      <td>CESSNA</td>\n",
       "      <td>210N</td>\n",
       "      <td>No</td>\n",
       "      <td>NaN</td>\n",
       "      <td>NaN</td>\n",
       "      <td>0.0</td>\n",
       "      <td>0.0</td>\n",
       "      <td>0.0</td>\n",
       "      <td>0.0</td>\n",
       "      <td>NaN</td>\n",
       "      <td>NaN</td>\n",
       "    </tr>\n",
       "    <tr>\n",
       "      <th>88888</th>\n",
       "      <td>Accident</td>\n",
       "      <td>2022-12-29</td>\n",
       "      <td>Athens, GA</td>\n",
       "      <td>United States</td>\n",
       "      <td>Minor</td>\n",
       "      <td>NaN</td>\n",
       "      <td>NaN</td>\n",
       "      <td>PIPER</td>\n",
       "      <td>PA-24-260</td>\n",
       "      <td>No</td>\n",
       "      <td>NaN</td>\n",
       "      <td>NaN</td>\n",
       "      <td>0.0</td>\n",
       "      <td>1.0</td>\n",
       "      <td>0.0</td>\n",
       "      <td>1.0</td>\n",
       "      <td>NaN</td>\n",
       "      <td>NaN</td>\n",
       "    </tr>\n",
       "  </tbody>\n",
       "</table>\n",
       "<p>64924 rows × 18 columns</p>\n",
       "</div>"
      ],
      "text/plain": [
       "           Type        Date          Location        Country Injury_Severity  \\\n",
       "7      Accident  1982-01-01       PULLMAN, WA  United States       Non-Fatal   \n",
       "8      Accident  1982-01-01  EAST HANOVER, NJ  United States       Non-Fatal   \n",
       "9      Accident  1982-01-01  JACKSONVILLE, FL  United States       Non-Fatal   \n",
       "10     Accident  1982-01-01         HOBBS, NM  United States       Non-Fatal   \n",
       "11     Accident  1982-01-01      TUSKEGEE, AL  United States       Non-Fatal   \n",
       "...         ...         ...               ...            ...             ...   \n",
       "88884  Accident  2022-12-26     Annapolis, MD  United States           Minor   \n",
       "88885  Accident  2022-12-26       Hampton, NH  United States             NaN   \n",
       "88886  Accident  2022-12-26        Payson, AZ  United States       Non-Fatal   \n",
       "88887  Accident  2022-12-26        Morgan, UT  United States             NaN   \n",
       "88888  Accident  2022-12-29        Athens, GA  United States           Minor   \n",
       "\n",
       "       Damage_Type Aircraft_Category                        Make  \\\n",
       "7      Substantial          Airplane                      Cessna   \n",
       "8      Substantial          Airplane                      Cessna   \n",
       "9      Substantial               NaN              North American   \n",
       "10     Substantial               NaN                       Piper   \n",
       "11     Substantial               NaN                       Beech   \n",
       "...            ...               ...                         ...   \n",
       "88884          NaN               NaN                       PIPER   \n",
       "88885          NaN               NaN                    BELLANCA   \n",
       "88886  Substantial          Airplane  AMERICAN CHAMPION AIRCRAFT   \n",
       "88887          NaN               NaN                      CESSNA   \n",
       "88888          NaN               NaN                       PIPER   \n",
       "\n",
       "              Model Amateur_Built  Engines    Engine_Type  Fatal_Injuries  \\\n",
       "7               140            No      1.0  Reciprocating             0.0   \n",
       "8              401B            No      2.0  Reciprocating             0.0   \n",
       "9      NAVION L-17B            No      1.0  Reciprocating             0.0   \n",
       "10        PA-28-161            No      1.0  Reciprocating             0.0   \n",
       "11             V35B            No      1.0  Reciprocating             0.0   \n",
       "...             ...           ...      ...            ...             ...   \n",
       "88884     PA-28-151            No      NaN            NaN             0.0   \n",
       "88885          7ECA            No      NaN            NaN             0.0   \n",
       "88886         8GCBC            No      1.0            NaN             0.0   \n",
       "88887          210N            No      NaN            NaN             0.0   \n",
       "88888     PA-24-260            No      NaN            NaN             0.0   \n",
       "\n",
       "       Serious_Injuries  Minor_Injuries  Uninjured Weather  Fatality  \n",
       "7                   0.0             0.0        2.0     VMC       NaN  \n",
       "8                   0.0             0.0        2.0     IMC       NaN  \n",
       "9                   0.0             3.0        0.0     IMC       NaN  \n",
       "10                  0.0             0.0        1.0     VMC       NaN  \n",
       "11                  0.0             0.0        1.0     VMC       NaN  \n",
       "...                 ...             ...        ...     ...       ...  \n",
       "88884               1.0             0.0        0.0     NaN       NaN  \n",
       "88885               0.0             0.0        0.0     NaN       NaN  \n",
       "88886               0.0             0.0        1.0     VMC       NaN  \n",
       "88887               0.0             0.0        0.0     NaN       NaN  \n",
       "88888               1.0             0.0        1.0     NaN       NaN  \n",
       "\n",
       "[64924 rows x 18 columns]"
      ]
     },
     "execution_count": 14,
     "metadata": {},
     "output_type": "execute_result"
    }
   ],
   "source": [
    "# Checking if there are rows where Fatal_Injuries is not null than 0 while Fatality is null\n",
    "df.loc[(df['Fatal_Injuries'].notna()) & (df['Fatality'].isna())]"
   ]
  },
  {
   "cell_type": "code",
   "execution_count": 15,
   "metadata": {},
   "outputs": [
    {
     "data": {
      "text/html": [
       "<div>\n",
       "<style scoped>\n",
       "    .dataframe tbody tr th:only-of-type {\n",
       "        vertical-align: middle;\n",
       "    }\n",
       "\n",
       "    .dataframe tbody tr th {\n",
       "        vertical-align: top;\n",
       "    }\n",
       "\n",
       "    .dataframe thead th {\n",
       "        text-align: right;\n",
       "    }\n",
       "</style>\n",
       "<table border=\"1\" class=\"dataframe\">\n",
       "  <thead>\n",
       "    <tr style=\"text-align: right;\">\n",
       "      <th></th>\n",
       "      <th>Type</th>\n",
       "      <th>Date</th>\n",
       "      <th>Location</th>\n",
       "      <th>Country</th>\n",
       "      <th>Injury_Severity</th>\n",
       "      <th>Damage_Type</th>\n",
       "      <th>Aircraft_Category</th>\n",
       "      <th>Make</th>\n",
       "      <th>Model</th>\n",
       "      <th>Amateur_Built</th>\n",
       "      <th>Engines</th>\n",
       "      <th>Engine_Type</th>\n",
       "      <th>Fatal_Injuries</th>\n",
       "      <th>Serious_Injuries</th>\n",
       "      <th>Minor_Injuries</th>\n",
       "      <th>Uninjured</th>\n",
       "      <th>Weather</th>\n",
       "      <th>Fatality</th>\n",
       "    </tr>\n",
       "  </thead>\n",
       "  <tbody>\n",
       "    <tr>\n",
       "      <th>7</th>\n",
       "      <td>Accident</td>\n",
       "      <td>1982-01-01</td>\n",
       "      <td>PULLMAN, WA</td>\n",
       "      <td>United States</td>\n",
       "      <td>Non-Fatal</td>\n",
       "      <td>Substantial</td>\n",
       "      <td>Airplane</td>\n",
       "      <td>Cessna</td>\n",
       "      <td>140</td>\n",
       "      <td>No</td>\n",
       "      <td>1.0</td>\n",
       "      <td>Reciprocating</td>\n",
       "      <td>0.0</td>\n",
       "      <td>0.0</td>\n",
       "      <td>0.0</td>\n",
       "      <td>2.0</td>\n",
       "      <td>VMC</td>\n",
       "      <td>NaN</td>\n",
       "    </tr>\n",
       "    <tr>\n",
       "      <th>8</th>\n",
       "      <td>Accident</td>\n",
       "      <td>1982-01-01</td>\n",
       "      <td>EAST HANOVER, NJ</td>\n",
       "      <td>United States</td>\n",
       "      <td>Non-Fatal</td>\n",
       "      <td>Substantial</td>\n",
       "      <td>Airplane</td>\n",
       "      <td>Cessna</td>\n",
       "      <td>401B</td>\n",
       "      <td>No</td>\n",
       "      <td>2.0</td>\n",
       "      <td>Reciprocating</td>\n",
       "      <td>0.0</td>\n",
       "      <td>0.0</td>\n",
       "      <td>0.0</td>\n",
       "      <td>2.0</td>\n",
       "      <td>IMC</td>\n",
       "      <td>NaN</td>\n",
       "    </tr>\n",
       "    <tr>\n",
       "      <th>9</th>\n",
       "      <td>Accident</td>\n",
       "      <td>1982-01-01</td>\n",
       "      <td>JACKSONVILLE, FL</td>\n",
       "      <td>United States</td>\n",
       "      <td>Non-Fatal</td>\n",
       "      <td>Substantial</td>\n",
       "      <td>NaN</td>\n",
       "      <td>North American</td>\n",
       "      <td>NAVION L-17B</td>\n",
       "      <td>No</td>\n",
       "      <td>1.0</td>\n",
       "      <td>Reciprocating</td>\n",
       "      <td>0.0</td>\n",
       "      <td>0.0</td>\n",
       "      <td>3.0</td>\n",
       "      <td>0.0</td>\n",
       "      <td>IMC</td>\n",
       "      <td>NaN</td>\n",
       "    </tr>\n",
       "    <tr>\n",
       "      <th>10</th>\n",
       "      <td>Accident</td>\n",
       "      <td>1982-01-01</td>\n",
       "      <td>HOBBS, NM</td>\n",
       "      <td>United States</td>\n",
       "      <td>Non-Fatal</td>\n",
       "      <td>Substantial</td>\n",
       "      <td>NaN</td>\n",
       "      <td>Piper</td>\n",
       "      <td>PA-28-161</td>\n",
       "      <td>No</td>\n",
       "      <td>1.0</td>\n",
       "      <td>Reciprocating</td>\n",
       "      <td>0.0</td>\n",
       "      <td>0.0</td>\n",
       "      <td>0.0</td>\n",
       "      <td>1.0</td>\n",
       "      <td>VMC</td>\n",
       "      <td>NaN</td>\n",
       "    </tr>\n",
       "    <tr>\n",
       "      <th>11</th>\n",
       "      <td>Accident</td>\n",
       "      <td>1982-01-01</td>\n",
       "      <td>TUSKEGEE, AL</td>\n",
       "      <td>United States</td>\n",
       "      <td>Non-Fatal</td>\n",
       "      <td>Substantial</td>\n",
       "      <td>NaN</td>\n",
       "      <td>Beech</td>\n",
       "      <td>V35B</td>\n",
       "      <td>No</td>\n",
       "      <td>1.0</td>\n",
       "      <td>Reciprocating</td>\n",
       "      <td>0.0</td>\n",
       "      <td>0.0</td>\n",
       "      <td>0.0</td>\n",
       "      <td>1.0</td>\n",
       "      <td>VMC</td>\n",
       "      <td>NaN</td>\n",
       "    </tr>\n",
       "    <tr>\n",
       "      <th>...</th>\n",
       "      <td>...</td>\n",
       "      <td>...</td>\n",
       "      <td>...</td>\n",
       "      <td>...</td>\n",
       "      <td>...</td>\n",
       "      <td>...</td>\n",
       "      <td>...</td>\n",
       "      <td>...</td>\n",
       "      <td>...</td>\n",
       "      <td>...</td>\n",
       "      <td>...</td>\n",
       "      <td>...</td>\n",
       "      <td>...</td>\n",
       "      <td>...</td>\n",
       "      <td>...</td>\n",
       "      <td>...</td>\n",
       "      <td>...</td>\n",
       "      <td>...</td>\n",
       "    </tr>\n",
       "    <tr>\n",
       "      <th>88884</th>\n",
       "      <td>Accident</td>\n",
       "      <td>2022-12-26</td>\n",
       "      <td>Annapolis, MD</td>\n",
       "      <td>United States</td>\n",
       "      <td>Minor</td>\n",
       "      <td>NaN</td>\n",
       "      <td>NaN</td>\n",
       "      <td>PIPER</td>\n",
       "      <td>PA-28-151</td>\n",
       "      <td>No</td>\n",
       "      <td>NaN</td>\n",
       "      <td>NaN</td>\n",
       "      <td>0.0</td>\n",
       "      <td>1.0</td>\n",
       "      <td>0.0</td>\n",
       "      <td>0.0</td>\n",
       "      <td>NaN</td>\n",
       "      <td>NaN</td>\n",
       "    </tr>\n",
       "    <tr>\n",
       "      <th>88885</th>\n",
       "      <td>Accident</td>\n",
       "      <td>2022-12-26</td>\n",
       "      <td>Hampton, NH</td>\n",
       "      <td>United States</td>\n",
       "      <td>NaN</td>\n",
       "      <td>NaN</td>\n",
       "      <td>NaN</td>\n",
       "      <td>BELLANCA</td>\n",
       "      <td>7ECA</td>\n",
       "      <td>No</td>\n",
       "      <td>NaN</td>\n",
       "      <td>NaN</td>\n",
       "      <td>0.0</td>\n",
       "      <td>0.0</td>\n",
       "      <td>0.0</td>\n",
       "      <td>0.0</td>\n",
       "      <td>NaN</td>\n",
       "      <td>NaN</td>\n",
       "    </tr>\n",
       "    <tr>\n",
       "      <th>88886</th>\n",
       "      <td>Accident</td>\n",
       "      <td>2022-12-26</td>\n",
       "      <td>Payson, AZ</td>\n",
       "      <td>United States</td>\n",
       "      <td>Non-Fatal</td>\n",
       "      <td>Substantial</td>\n",
       "      <td>Airplane</td>\n",
       "      <td>AMERICAN CHAMPION AIRCRAFT</td>\n",
       "      <td>8GCBC</td>\n",
       "      <td>No</td>\n",
       "      <td>1.0</td>\n",
       "      <td>NaN</td>\n",
       "      <td>0.0</td>\n",
       "      <td>0.0</td>\n",
       "      <td>0.0</td>\n",
       "      <td>1.0</td>\n",
       "      <td>VMC</td>\n",
       "      <td>NaN</td>\n",
       "    </tr>\n",
       "    <tr>\n",
       "      <th>88887</th>\n",
       "      <td>Accident</td>\n",
       "      <td>2022-12-26</td>\n",
       "      <td>Morgan, UT</td>\n",
       "      <td>United States</td>\n",
       "      <td>NaN</td>\n",
       "      <td>NaN</td>\n",
       "      <td>NaN</td>\n",
       "      <td>CESSNA</td>\n",
       "      <td>210N</td>\n",
       "      <td>No</td>\n",
       "      <td>NaN</td>\n",
       "      <td>NaN</td>\n",
       "      <td>0.0</td>\n",
       "      <td>0.0</td>\n",
       "      <td>0.0</td>\n",
       "      <td>0.0</td>\n",
       "      <td>NaN</td>\n",
       "      <td>NaN</td>\n",
       "    </tr>\n",
       "    <tr>\n",
       "      <th>88888</th>\n",
       "      <td>Accident</td>\n",
       "      <td>2022-12-29</td>\n",
       "      <td>Athens, GA</td>\n",
       "      <td>United States</td>\n",
       "      <td>Minor</td>\n",
       "      <td>NaN</td>\n",
       "      <td>NaN</td>\n",
       "      <td>PIPER</td>\n",
       "      <td>PA-24-260</td>\n",
       "      <td>No</td>\n",
       "      <td>NaN</td>\n",
       "      <td>NaN</td>\n",
       "      <td>0.0</td>\n",
       "      <td>1.0</td>\n",
       "      <td>0.0</td>\n",
       "      <td>1.0</td>\n",
       "      <td>NaN</td>\n",
       "      <td>NaN</td>\n",
       "    </tr>\n",
       "  </tbody>\n",
       "</table>\n",
       "<p>59675 rows × 18 columns</p>\n",
       "</div>"
      ],
      "text/plain": [
       "           Type        Date          Location        Country Injury_Severity  \\\n",
       "7      Accident  1982-01-01       PULLMAN, WA  United States       Non-Fatal   \n",
       "8      Accident  1982-01-01  EAST HANOVER, NJ  United States       Non-Fatal   \n",
       "9      Accident  1982-01-01  JACKSONVILLE, FL  United States       Non-Fatal   \n",
       "10     Accident  1982-01-01         HOBBS, NM  United States       Non-Fatal   \n",
       "11     Accident  1982-01-01      TUSKEGEE, AL  United States       Non-Fatal   \n",
       "...         ...         ...               ...            ...             ...   \n",
       "88884  Accident  2022-12-26     Annapolis, MD  United States           Minor   \n",
       "88885  Accident  2022-12-26       Hampton, NH  United States             NaN   \n",
       "88886  Accident  2022-12-26        Payson, AZ  United States       Non-Fatal   \n",
       "88887  Accident  2022-12-26        Morgan, UT  United States             NaN   \n",
       "88888  Accident  2022-12-29        Athens, GA  United States           Minor   \n",
       "\n",
       "       Damage_Type Aircraft_Category                        Make  \\\n",
       "7      Substantial          Airplane                      Cessna   \n",
       "8      Substantial          Airplane                      Cessna   \n",
       "9      Substantial               NaN              North American   \n",
       "10     Substantial               NaN                       Piper   \n",
       "11     Substantial               NaN                       Beech   \n",
       "...            ...               ...                         ...   \n",
       "88884          NaN               NaN                       PIPER   \n",
       "88885          NaN               NaN                    BELLANCA   \n",
       "88886  Substantial          Airplane  AMERICAN CHAMPION AIRCRAFT   \n",
       "88887          NaN               NaN                      CESSNA   \n",
       "88888          NaN               NaN                       PIPER   \n",
       "\n",
       "              Model Amateur_Built  Engines    Engine_Type  Fatal_Injuries  \\\n",
       "7               140            No      1.0  Reciprocating             0.0   \n",
       "8              401B            No      2.0  Reciprocating             0.0   \n",
       "9      NAVION L-17B            No      1.0  Reciprocating             0.0   \n",
       "10        PA-28-161            No      1.0  Reciprocating             0.0   \n",
       "11             V35B            No      1.0  Reciprocating             0.0   \n",
       "...             ...           ...      ...            ...             ...   \n",
       "88884     PA-28-151            No      NaN            NaN             0.0   \n",
       "88885          7ECA            No      NaN            NaN             0.0   \n",
       "88886         8GCBC            No      1.0            NaN             0.0   \n",
       "88887          210N            No      NaN            NaN             0.0   \n",
       "88888     PA-24-260            No      NaN            NaN             0.0   \n",
       "\n",
       "       Serious_Injuries  Minor_Injuries  Uninjured Weather  Fatality  \n",
       "7                   0.0             0.0        2.0     VMC       NaN  \n",
       "8                   0.0             0.0        2.0     IMC       NaN  \n",
       "9                   0.0             3.0        0.0     IMC       NaN  \n",
       "10                  0.0             0.0        1.0     VMC       NaN  \n",
       "11                  0.0             0.0        1.0     VMC       NaN  \n",
       "...                 ...             ...        ...     ...       ...  \n",
       "88884               1.0             0.0        0.0     NaN       NaN  \n",
       "88885               0.0             0.0        0.0     NaN       NaN  \n",
       "88886               0.0             0.0        1.0     VMC       NaN  \n",
       "88887               0.0             0.0        0.0     NaN       NaN  \n",
       "88888               1.0             0.0        1.0     NaN       NaN  \n",
       "\n",
       "[59675 rows x 18 columns]"
      ]
     },
     "execution_count": 15,
     "metadata": {},
     "output_type": "execute_result"
    }
   ],
   "source": [
    "# Checking if there are rows where Fatal_Injuries is 0 while Fatality is null\n",
    "df.loc[(df['Fatal_Injuries'] == 0) & (df['Fatality'].isna())]"
   ]
  },
  {
   "cell_type": "code",
   "execution_count": 16,
   "metadata": {},
   "outputs": [],
   "source": [
    "# Making a temporary dataframe in which 'Fatal_Injuries' does not equal 'Fatality'\n",
    "df_temp = df.loc[(df['Fatal_Injuries']) != (df['Fatality'])]"
   ]
  },
  {
   "cell_type": "code",
   "execution_count": 18,
   "metadata": {},
   "outputs": [
    {
     "data": {
      "text/plain": [
       "0.0"
      ]
     },
     "execution_count": 18,
     "metadata": {},
     "output_type": "execute_result"
    }
   ],
   "source": [
    "df_temp['Fatality'].sum()"
   ]
  },
  {
   "cell_type": "code",
   "execution_count": 19,
   "metadata": {},
   "outputs": [
    {
     "data": {
      "text/plain": [
       "14584.0"
      ]
     },
     "execution_count": 19,
     "metadata": {},
     "output_type": "execute_result"
    }
   ],
   "source": [
    "df_temp['Fatal_Injuries'].sum()"
   ]
  },
  {
   "cell_type": "markdown",
   "metadata": {},
   "source": [
    "__There is no extra information in the Injury_Severity column that is missing from Fatal_Injuries. In fact, Fatal_Injuries contains more information than the numbers stripped from the Injury_Severity column. The temp column Fatality can be thus dropped and the numbers in brackets can be stripped from the Injurity_Severity column so that only \"Fatal\" remains.__"
   ]
  },
  {
   "cell_type": "code",
   "execution_count": 20,
   "metadata": {},
   "outputs": [],
   "source": [
    "df = df.drop(columns=['Fatality'])"
   ]
  },
  {
   "cell_type": "code",
   "execution_count": 21,
   "metadata": {},
   "outputs": [],
   "source": [
    "# Stripping the bracket enclosed numbers from the Injury_Severity column\n",
    "df['Injury_Severity'] = df['Injury_Severity'].str.replace(r'Fatal\\(\\d+\\)', 'Fatal', regex=True)"
   ]
  },
  {
   "cell_type": "markdown",
   "metadata": {},
   "source": [
    "### __2. Dealing with missing values__"
   ]
  },
  {
   "cell_type": "code",
   "execution_count": 22,
   "metadata": {},
   "outputs": [
    {
     "data": {
      "text/plain": [
       "Type                     0\n",
       "Date                     0\n",
       "Location                52\n",
       "Country                226\n",
       "Injury_Severity       1000\n",
       "Damage_Type           3194\n",
       "Aircraft_Category    56602\n",
       "Make                    63\n",
       "Model                   92\n",
       "Amateur_Built          102\n",
       "Engines               6084\n",
       "Engine_Type           7096\n",
       "Fatal_Injuries       11401\n",
       "Serious_Injuries     12510\n",
       "Minor_Injuries       11933\n",
       "Uninjured             5912\n",
       "Weather               4492\n",
       "dtype: int64"
      ]
     },
     "execution_count": 22,
     "metadata": {},
     "output_type": "execute_result"
    }
   ],
   "source": [
    "df.isna().sum()"
   ]
  },
  {
   "cell_type": "markdown",
   "metadata": {},
   "source": [
    "#### 2.1 Replacing all missing values from Fatal_Injuries, Serious_Injuries, Minor_Injuries, Uninjured with 0 and creating a new column Total_Passengers"
   ]
  },
  {
   "cell_type": "code",
   "execution_count": 23,
   "metadata": {},
   "outputs": [],
   "source": [
    "# Replacing missing values with 0\n",
    "df['Fatal_Injuries'] = df['Fatal_Injuries'].replace({np.nan: 0})\n",
    "df['Serious_Injuries'] = df['Serious_Injuries'].replace({np.nan: 0})\n",
    "df['Minor_Injuries'] = df['Minor_Injuries'].replace({np.nan: 0})\n",
    "df['Uninjured'] = df['Uninjured'].replace({np.nan: 0})"
   ]
  },
  {
   "cell_type": "code",
   "execution_count": 24,
   "metadata": {},
   "outputs": [
    {
     "data": {
      "text/plain": [
       "Type                     0\n",
       "Date                     0\n",
       "Location                52\n",
       "Country                226\n",
       "Injury_Severity       1000\n",
       "Damage_Type           3194\n",
       "Aircraft_Category    56602\n",
       "Make                    63\n",
       "Model                   92\n",
       "Amateur_Built          102\n",
       "Engines               6084\n",
       "Engine_Type           7096\n",
       "Fatal_Injuries           0\n",
       "Serious_Injuries         0\n",
       "Minor_Injuries           0\n",
       "Uninjured                0\n",
       "Weather               4492\n",
       "dtype: int64"
      ]
     },
     "execution_count": 24,
     "metadata": {},
     "output_type": "execute_result"
    }
   ],
   "source": [
    "# Confirming the previous operation succeeeded\n",
    "df.isna().sum()"
   ]
  },
  {
   "cell_type": "code",
   "execution_count": 25,
   "metadata": {},
   "outputs": [],
   "source": [
    "# Creating a Total_Passengers column\n",
    "df['Total_Passengers'] = df['Fatal_Injuries'] + df['Serious_Injuries'] + df['Minor_Injuries'] + df['Uninjured']"
   ]
  },
  {
   "cell_type": "markdown",
   "metadata": {},
   "source": [
    "#### 2.2 Dropping rows with null values"
   ]
  },
  {
   "cell_type": "code",
   "execution_count": 26,
   "metadata": {},
   "outputs": [],
   "source": [
    "df.dropna(subset=['Make'], inplace=True)\n",
    "df.dropna(subset=['Model'], inplace=True)\n",
    "df.dropna(subset=['Amateur_Built'], inplace=True)\n",
    "df.dropna(subset=['Country'], inplace=True)"
   ]
  },
  {
   "cell_type": "markdown",
   "metadata": {},
   "source": [
    "#### 2.3 Imputing missing values in Aircraft_Category"
   ]
  },
  {
   "cell_type": "markdown",
   "metadata": {},
   "source": [
    "This is in aircraft_category_filled.csv. The imputation was done with the help of ChatGPT with the prompt \"Can you fill in missing data in the Aircraft_Category column based on the type of aircraft that you identify through the Make and Model columns?\". ChatGPT was able to impute most of the missing values leaving 13,796 values empty due to \"unclear classifications or missing data\". Having had a closer look at some of these cases of unclear classification they were all airplanes and usually the Make name was a shortened or different version of their full names i.e. Beech instead of Beechcraft and ChatGPT was unable to match those to aircraft manufacturers. I then brute force imputed the rest of the missing values as Airplane because it is the mode in Aircraft_Category after all and it isn't close."
   ]
  },
  {
   "cell_type": "markdown",
   "metadata": {},
   "source": [
    "### __3. Let's clean up some rows__"
   ]
  },
  {
   "cell_type": "code",
   "execution_count": 28,
   "metadata": {},
   "outputs": [
    {
     "name": "stdout",
     "output_type": "stream",
     "text": [
      "<class 'pandas.core.frame.DataFrame'>\n",
      "Index: 88678 entries, 0 to 88888\n",
      "Data columns (total 18 columns):\n",
      " #   Column             Non-Null Count  Dtype  \n",
      "---  ------             --------------  -----  \n",
      " 0   Type               88678 non-null  object \n",
      " 1   Date               88678 non-null  object \n",
      " 2   Location           88630 non-null  object \n",
      " 3   Country            88453 non-null  object \n",
      " 4   Injury_Severity    87699 non-null  object \n",
      " 5   Damage_Type        85524 non-null  object \n",
      " 6   Aircraft_Category  32226 non-null  object \n",
      " 7   Make               88678 non-null  object \n",
      " 8   Model              88678 non-null  object \n",
      " 9   Amateur_Built      88678 non-null  object \n",
      " 10  Engines            82734 non-null  float64\n",
      " 11  Engine_Type        81731 non-null  object \n",
      " 12  Fatal_Injuries     88678 non-null  float64\n",
      " 13  Serious_Injuries   88678 non-null  float64\n",
      " 14  Minor_Injuries     88678 non-null  float64\n",
      " 15  Uninjured          88678 non-null  float64\n",
      " 16  Weather            84297 non-null  object \n",
      " 17  Total_Passengers   88678 non-null  float64\n",
      "dtypes: float64(6), object(12)\n",
      "memory usage: 12.9+ MB\n"
     ]
    }
   ],
   "source": [
    "df.info()"
   ]
  },
  {
   "cell_type": "markdown",
   "metadata": {},
   "source": [
    "#### 3.1 Filtering Type and Amateur_Built and Engines"
   ]
  },
  {
   "cell_type": "code",
   "execution_count": 29,
   "metadata": {},
   "outputs": [
    {
     "data": {
      "text/plain": [
       "Type\n",
       "Accident    84881\n",
       "Incident     3797\n",
       "Name: count, dtype: int64"
      ]
     },
     "execution_count": 29,
     "metadata": {},
     "output_type": "execute_result"
    }
   ],
   "source": [
    "df['Type'].value_counts()"
   ]
  },
  {
   "cell_type": "code",
   "execution_count": 30,
   "metadata": {},
   "outputs": [],
   "source": [
    "# Getting rid of all events labeled 'Incident'\n",
    "df = df.loc[df['Type'] == 'Accident']"
   ]
  },
  {
   "cell_type": "code",
   "execution_count": 31,
   "metadata": {},
   "outputs": [],
   "source": [
    "# Eliminating all amateur built planes, we ain't interesting in those\n",
    "df = df.loc[df['Amateur_Built'] == 'No']"
   ]
  },
  {
   "cell_type": "code",
   "execution_count": 32,
   "metadata": {},
   "outputs": [
    {
     "data": {
      "text/plain": [
       "Engines\n",
       "1.0    61035\n",
       "2.0     9324\n",
       "0.0     1141\n",
       "4.0      224\n",
       "3.0      206\n",
       "8.0        3\n",
       "6.0        1\n",
       "Name: count, dtype: int64"
      ]
     },
     "execution_count": 32,
     "metadata": {},
     "output_type": "execute_result"
    }
   ],
   "source": [
    "df['Engines'].value_counts()"
   ]
  },
  {
   "cell_type": "code",
   "execution_count": 33,
   "metadata": {},
   "outputs": [],
   "source": [
    "# Filtering out aircraft that have no engines and ones that have more than 4. After looking through the aircraft with more than\n",
    "# 4 engines, I realized that they were all electric airplanes or drones which are not relevant to our analysis\n",
    "df = df.loc[df['Engines'] > 0]\n",
    "df = df.loc[df['Engines'] <= 4]\n"
   ]
  },
  {
   "cell_type": "markdown",
   "metadata": {},
   "source": [
    "#### 3.2 Converting Date column to datetime objects and making a time cutoff"
   ]
  },
  {
   "cell_type": "code",
   "execution_count": 34,
   "metadata": {},
   "outputs": [],
   "source": [
    "# Converting the Date column to datetime values\n",
    "df['Date'] = pd.to_datetime(df['Date'], format='%Y-%m-%d')"
   ]
  },
  {
   "cell_type": "code",
   "execution_count": 35,
   "metadata": {},
   "outputs": [],
   "source": [
    "# Adding Year and Month columns in case we need them for analysis later on\n",
    "df['Year'] = df['Date'].dt.year\n",
    "df['Month'] = df['Date'].dt.month"
   ]
  },
  {
   "cell_type": "code",
   "execution_count": 40,
   "metadata": {},
   "outputs": [
    {
     "data": {
      "text/plain": [
       "(61574, 20)"
      ]
     },
     "execution_count": 40,
     "metadata": {},
     "output_type": "execute_result"
    }
   ],
   "source": [
    "# Checking dataset by setting a time cut-off. The time cut-off operation itself is done later in this notebook\n",
    "df[df['Year'] >= 1985].shape"
   ]
  },
  {
   "cell_type": "markdown",
   "metadata": {},
   "source": [
    "#### 3.3 Create fraction/percentage rates for fatalities and injuries"
   ]
  },
  {
   "cell_type": "markdown",
   "metadata": {},
   "source": [
    "See EDA.ipynb for this step."
   ]
  },
  {
   "cell_type": "code",
   "execution_count": 38,
   "metadata": {},
   "outputs": [],
   "source": [
    "# Half cleaned dataset\n",
    "df.to_csv('aviation_data_half_clean.csv')"
   ]
  },
  {
   "cell_type": "markdown",
   "metadata": {},
   "source": [
    "#### 3.4 Cleaning up duplicates in the 'Make' column"
   ]
  },
  {
   "cell_type": "markdown",
   "metadata": {},
   "source": [
    "The Make column was cleaned in another notebook stringcleaning.ipynb."
   ]
  },
  {
   "cell_type": "code",
   "execution_count": 42,
   "metadata": {},
   "outputs": [
    {
     "name": "stdout",
     "output_type": "stream",
     "text": [
      "<class 'pandas.core.frame.DataFrame'>\n",
      "RangeIndex: 70789 entries, 0 to 70788\n",
      "Data columns (total 22 columns):\n",
      " #   Column             Non-Null Count  Dtype  \n",
      "---  ------             --------------  -----  \n",
      " 0   Unnamed: 0.1       70789 non-null  int64  \n",
      " 1   Unnamed: 0         70789 non-null  int64  \n",
      " 2   Type               70789 non-null  object \n",
      " 3   Date               70789 non-null  object \n",
      " 4   Location           70771 non-null  object \n",
      " 5   Country            70597 non-null  object \n",
      " 6   Injury_Severity    70717 non-null  object \n",
      " 7   Damage_Type        69942 non-null  object \n",
      " 8   Aircraft_Category  70789 non-null  object \n",
      " 9   Make               70789 non-null  object \n",
      " 10  Model              70789 non-null  object \n",
      " 11  Amateur_Built      70789 non-null  object \n",
      " 12  Engines            70789 non-null  float64\n",
      " 13  Engine_Type        68723 non-null  object \n",
      " 14  Fatal_Injuries     70789 non-null  float64\n",
      " 15  Serious_Injuries   70789 non-null  float64\n",
      " 16  Minor_Injuries     70789 non-null  float64\n",
      " 17  Uninjured          70789 non-null  float64\n",
      " 18  Weather            69676 non-null  object \n",
      " 19  Total_Passengers   70789 non-null  float64\n",
      " 20  Year               70789 non-null  int64  \n",
      " 21  Month              70789 non-null  int64  \n",
      "dtypes: float64(6), int64(4), object(12)\n",
      "memory usage: 11.9+ MB\n"
     ]
    }
   ],
   "source": [
    "df = pd.read_csv('aircraft_category_filled.csv')\n",
    "df.info()"
   ]
  },
  {
   "cell_type": "markdown",
   "metadata": {},
   "source": [
    "#### 3.5 Filtering Aircraft_Category to just airplanes"
   ]
  },
  {
   "cell_type": "code",
   "execution_count": 45,
   "metadata": {},
   "outputs": [
    {
     "data": {
      "text/plain": [
       "Aircraft_Category\n",
       "Airplane    64313\n",
       "Name: count, dtype: int64"
      ]
     },
     "execution_count": 45,
     "metadata": {},
     "output_type": "execute_result"
    }
   ],
   "source": [
    "# Drop all rows that aren't airplanes\n",
    "df = df.loc[df['Aircraft_Category'] == 'Airplane']"
   ]
  },
  {
   "cell_type": "code",
   "execution_count": null,
   "metadata": {},
   "outputs": [],
   "source": [
    "# Dropping extra columns that appeared from not setting an index=False when converting our dataframes to csv in other steps\n",
    "df.drop(columns=['Unnamed: 0.1', 'Unnamed: 0'], inplace=True)"
   ]
  },
  {
   "cell_type": "code",
   "execution_count": 53,
   "metadata": {},
   "outputs": [],
   "source": [
    "df.drop(columns=['Type', 'Amateur_Built'], inplace=True)"
   ]
  },
  {
   "cell_type": "code",
   "execution_count": 54,
   "metadata": {},
   "outputs": [
    {
     "name": "stdout",
     "output_type": "stream",
     "text": [
      "<class 'pandas.core.frame.DataFrame'>\n",
      "Index: 64313 entries, 0 to 70788\n",
      "Data columns (total 18 columns):\n",
      " #   Column             Non-Null Count  Dtype  \n",
      "---  ------             --------------  -----  \n",
      " 0   Date               64313 non-null  object \n",
      " 1   Location           64300 non-null  object \n",
      " 2   Country            64195 non-null  object \n",
      " 3   Injury_Severity    64249 non-null  object \n",
      " 4   Damage_Type        63522 non-null  object \n",
      " 5   Aircraft_Category  64313 non-null  object \n",
      " 6   Make               64313 non-null  object \n",
      " 7   Model              64313 non-null  object \n",
      " 8   Engines            64313 non-null  float64\n",
      " 9   Engine_Type        62554 non-null  object \n",
      " 10  Fatal_Injuries     64313 non-null  float64\n",
      " 11  Serious_Injuries   64313 non-null  float64\n",
      " 12  Minor_Injuries     64313 non-null  float64\n",
      " 13  Uninjured          64313 non-null  float64\n",
      " 14  Weather            63394 non-null  object \n",
      " 15  Total_Passengers   64313 non-null  float64\n",
      " 16  Year               64313 non-null  int64  \n",
      " 17  Month              64313 non-null  int64  \n",
      "dtypes: float64(6), int64(2), object(10)\n",
      "memory usage: 9.3+ MB\n"
     ]
    }
   ],
   "source": [
    "df.info()"
   ]
  },
  {
   "cell_type": "markdown",
   "metadata": {},
   "source": [
    "#### 3.6 Truncating the dataset further by dropping accidents prior to the year 1990 and accidents that occurred outside of the US"
   ]
  },
  {
   "cell_type": "code",
   "execution_count": 69,
   "metadata": {},
   "outputs": [
    {
     "name": "stdout",
     "output_type": "stream",
     "text": [
      "<class 'pandas.core.frame.DataFrame'>\n",
      "Index: 43045 entries, 21550 to 70788\n",
      "Data columns (total 18 columns):\n",
      " #   Column             Non-Null Count  Dtype  \n",
      "---  ------             --------------  -----  \n",
      " 0   Date               43045 non-null  object \n",
      " 1   Location           43042 non-null  object \n",
      " 2   Country            43045 non-null  object \n",
      " 3   Injury_Severity    43016 non-null  object \n",
      " 4   Damage_Type        42485 non-null  object \n",
      " 5   Aircraft_Category  43045 non-null  object \n",
      " 6   Make               43045 non-null  object \n",
      " 7   Model              43045 non-null  object \n",
      " 8   Engines            43045 non-null  float64\n",
      " 9   Engine_Type        41630 non-null  object \n",
      " 10  Fatal_Injuries     43045 non-null  float64\n",
      " 11  Serious_Injuries   43045 non-null  float64\n",
      " 12  Minor_Injuries     43045 non-null  float64\n",
      " 13  Uninjured          43045 non-null  float64\n",
      " 14  Weather            42687 non-null  object \n",
      " 15  Total_Passengers   43045 non-null  float64\n",
      " 16  Year               43045 non-null  int64  \n",
      " 17  Month              43045 non-null  int64  \n",
      "dtypes: float64(6), int64(2), object(10)\n",
      "memory usage: 6.2+ MB\n"
     ]
    }
   ],
   "source": [
    "# We decided to drop entries that had a location outside of the US and focus only on accidents that occurred after 1990. \n",
    "# The location decision is due to our company operating only in the US and the year cut-off is just an estimation of data that will\n",
    "# actually be relevant for our analysis. While we did not comb through all of the airplane models in the dataset it is safe to say\n",
    "# that some of the models and even manufacturers are not in operation anymore in present day. \n",
    "\n",
    "df_filtered = df[df['Year'] >= 1990]\n",
    "df_filtered = df_filtered[df_filtered['Country'] == 'United States']\n",
    "df_filtered.info()\n",
    "\n",
    "#df = df[df['Country'] == 'United States']"
   ]
  },
  {
   "cell_type": "code",
   "execution_count": 83,
   "metadata": {},
   "outputs": [
    {
     "data": {
      "text/plain": [
       "(43045, 19)"
      ]
     },
     "execution_count": 83,
     "metadata": {},
     "output_type": "execute_result"
    }
   ],
   "source": [
    "df_filtered.shape"
   ]
  },
  {
   "cell_type": "code",
   "execution_count": 87,
   "metadata": {},
   "outputs": [
    {
     "data": {
      "text/plain": [
       "(42998, 19)"
      ]
     },
     "execution_count": 87,
     "metadata": {},
     "output_type": "execute_result"
    }
   ],
   "source": [
    "# Seems like there were entries where total passengers was 0. Instead of manually looking for the reports to verify passenger \n",
    "# amounts we simply drop the 47 entries that had no passengers\n",
    "df_filtered = df_filtered.loc[df['Total_Passengers'] > 0]\n"
   ]
  },
  {
   "cell_type": "code",
   "execution_count": 95,
   "metadata": {},
   "outputs": [
    {
     "name": "stdout",
     "output_type": "stream",
     "text": [
      "<class 'pandas.core.frame.DataFrame'>\n",
      "Index: 42998 entries, 21550 to 70788\n",
      "Data columns (total 18 columns):\n",
      " #   Column             Non-Null Count  Dtype  \n",
      "---  ------             --------------  -----  \n",
      " 0   Date               42998 non-null  object \n",
      " 1   Location           42995 non-null  object \n",
      " 2   Country            42998 non-null  object \n",
      " 3   Injury_Severity    42998 non-null  object \n",
      " 4   Damage_Type        42440 non-null  object \n",
      " 5   Aircraft_Category  42998 non-null  object \n",
      " 6   Make               42998 non-null  object \n",
      " 7   Model              42998 non-null  object \n",
      " 8   Engines            42998 non-null  float64\n",
      " 9   Engine_Type        41599 non-null  object \n",
      " 10  Fatal_Injuries     42998 non-null  float64\n",
      " 11  Serious_Injuries   42998 non-null  float64\n",
      " 12  Minor_Injuries     42998 non-null  float64\n",
      " 13  Uninjured          42998 non-null  float64\n",
      " 14  Weather            42648 non-null  object \n",
      " 15  Total_Passengers   42998 non-null  float64\n",
      " 16  Year               42998 non-null  int64  \n",
      " 17  Month              42998 non-null  int64  \n",
      "dtypes: float64(6), int64(2), object(10)\n",
      "memory usage: 6.2+ MB\n"
     ]
    }
   ],
   "source": [
    "df_filtered.info()"
   ]
  },
  {
   "cell_type": "code",
   "execution_count": 125,
   "metadata": {},
   "outputs": [
    {
     "data": {
      "text/plain": [
       "Make\n",
       "cessna               16719\n",
       "piper                 9225\n",
       "beechcraft            3314\n",
       "grumman                952\n",
       "mooney                 912\n",
       "boeing                 735\n",
       "air tractor            529\n",
       "aeronca                429\n",
       "maule                  422\n",
       "hughes                 386\n",
       "cirrus                 351\n",
       "champion               336\n",
       "stinson                301\n",
       "luscombe               294\n",
       "mcdonnell douglas      255\n",
       "north american         254\n",
       "rockwell               252\n",
       "taylorcraft            249\n",
       "aero commander         247\n",
       "de havilland           221\n",
       "schweizer              204\n",
       "air tractor inc        202\n",
       "ayres                  147\n",
       "aerospatiale           146\n",
       "aviat                  136\n",
       "airbus                 131\n",
       "hiller                 129\n",
       "enstrom                125\n",
       "waco                   105\n",
       "gulfstream             102\n",
       "Name: count, dtype: int64"
      ]
     },
     "execution_count": 125,
     "metadata": {},
     "output_type": "execute_result"
    }
   ],
   "source": [
    "df_filtered['Make'].value_counts()[:30]"
   ]
  },
  {
   "cell_type": "code",
   "execution_count": 127,
   "metadata": {},
   "outputs": [],
   "source": [
    "# Next up we filter out Makes that have less than 100 entries in our dataset\n",
    "value_counts = df_filtered['Make'].value_counts()"
   ]
  },
  {
   "cell_type": "code",
   "execution_count": 128,
   "metadata": {},
   "outputs": [
    {
     "data": {
      "text/plain": [
       "Index(['cessna', 'piper', 'beechcraft', 'grumman', 'mooney', 'boeing',\n",
       "       'air tractor', 'aeronca', 'maule', 'hughes', 'cirrus', 'champion',\n",
       "       'stinson', 'luscombe', 'mcdonnell douglas', 'north american',\n",
       "       'rockwell', 'taylorcraft', 'aero commander', 'de havilland',\n",
       "       'schweizer', 'air tractor inc', 'ayres', 'aerospatiale', 'aviat',\n",
       "       'airbus', 'hiller', 'enstrom', 'waco', 'gulfstream',\n",
       "       'ercoupe (eng & research corp.)'],\n",
       "      dtype='object', name='Make')"
      ]
     },
     "execution_count": 128,
     "metadata": {},
     "output_type": "execute_result"
    }
   ],
   "source": [
    "values_to_keep = value_counts[value_counts > 99].index\n",
    "values_to_keep"
   ]
  },
  {
   "cell_type": "code",
   "execution_count": 129,
   "metadata": {},
   "outputs": [],
   "source": [
    "filtered_df = df_filtered[df_filtered['Make'].isin(values_to_keep)]"
   ]
  },
  {
   "cell_type": "code",
   "execution_count": 130,
   "metadata": {},
   "outputs": [
    {
     "name": "stdout",
     "output_type": "stream",
     "text": [
      "<class 'pandas.core.frame.DataFrame'>\n",
      "Index: 37910 entries, 21550 to 70787\n",
      "Data columns (total 18 columns):\n",
      " #   Column             Non-Null Count  Dtype  \n",
      "---  ------             --------------  -----  \n",
      " 0   Date               37910 non-null  object \n",
      " 1   Location           37908 non-null  object \n",
      " 2   Country            37910 non-null  object \n",
      " 3   Injury_Severity    37910 non-null  object \n",
      " 4   Damage_Type        37461 non-null  object \n",
      " 5   Aircraft_Category  37910 non-null  object \n",
      " 6   Make               37910 non-null  object \n",
      " 7   Model              37910 non-null  object \n",
      " 8   Engines            37910 non-null  float64\n",
      " 9   Engine_Type        36837 non-null  object \n",
      " 10  Fatal_Injuries     37910 non-null  float64\n",
      " 11  Serious_Injuries   37910 non-null  float64\n",
      " 12  Minor_Injuries     37910 non-null  float64\n",
      " 13  Uninjured          37910 non-null  float64\n",
      " 14  Weather            37649 non-null  object \n",
      " 15  Total_Passengers   37910 non-null  float64\n",
      " 16  Year               37910 non-null  int64  \n",
      " 17  Month              37910 non-null  int64  \n",
      "dtypes: float64(6), int64(2), object(10)\n",
      "memory usage: 5.5+ MB\n"
     ]
    }
   ],
   "source": [
    "filtered_df.info()"
   ]
  },
  {
   "cell_type": "code",
   "execution_count": 131,
   "metadata": {},
   "outputs": [],
   "source": [
    "filtered_df.to_csv('data_cleaned_final.csv', index=True)"
   ]
  },
  {
   "cell_type": "markdown",
   "metadata": {},
   "source": [
    "### __4.Surprise data cleaning tasks that emerge during analysis__"
   ]
  },
  {
   "cell_type": "code",
   "execution_count": 143,
   "metadata": {},
   "outputs": [],
   "source": [
    "df = pd.read_csv('data_cleaned_final.csv')"
   ]
  },
  {
   "cell_type": "code",
   "execution_count": 146,
   "metadata": {},
   "outputs": [
    {
     "name": "stdout",
     "output_type": "stream",
     "text": [
      "<class 'pandas.core.frame.DataFrame'>\n",
      "RangeIndex: 37910 entries, 0 to 37909\n",
      "Data columns (total 18 columns):\n",
      " #   Column             Non-Null Count  Dtype  \n",
      "---  ------             --------------  -----  \n",
      " 0   Date               37910 non-null  object \n",
      " 1   Location           37908 non-null  object \n",
      " 2   Country            37910 non-null  object \n",
      " 3   Injury_Severity    37910 non-null  object \n",
      " 4   Damage_Type        37461 non-null  object \n",
      " 5   Aircraft_Category  37910 non-null  object \n",
      " 6   Make               37910 non-null  object \n",
      " 7   Engines            37910 non-null  float64\n",
      " 8   Engine_Type        36837 non-null  object \n",
      " 9   Fatal_Injuries     37910 non-null  float64\n",
      " 10  Serious_Injuries   37910 non-null  float64\n",
      " 11  Minor_Injuries     37910 non-null  float64\n",
      " 12  Uninjured          37910 non-null  float64\n",
      " 13  Weather            37649 non-null  object \n",
      " 14  Total_Passengers   37910 non-null  float64\n",
      " 15  Year               37910 non-null  int64  \n",
      " 16  Month              37910 non-null  int64  \n",
      " 17  Model_final        37910 non-null  object \n",
      "dtypes: float64(6), int64(2), object(10)\n",
      "memory usage: 5.2+ MB\n"
     ]
    }
   ],
   "source": [
    "df.info()"
   ]
  },
  {
   "cell_type": "markdown",
   "metadata": {},
   "source": [
    "#### 4.1 Cleaning up the Model column"
   ]
  },
  {
   "cell_type": "markdown",
   "metadata": {},
   "source": [
    "This clean-up was done in stringclening.ipynb, see that notebook for the details. "
   ]
  },
  {
   "cell_type": "code",
   "execution_count": 147,
   "metadata": {},
   "outputs": [],
   "source": [
    "df = df.rename(columns={'Model_final': 'Model'})"
   ]
  },
  {
   "cell_type": "markdown",
   "metadata": {},
   "source": [
    "#### 4.2 Miscellaneous clean-up tasks"
   ]
  },
  {
   "cell_type": "code",
   "execution_count": 149,
   "metadata": {},
   "outputs": [],
   "source": [
    "# Dropping missing values from Damage_type\n",
    "df = df.dropna(subset=['Damage_Type'])"
   ]
  },
  {
   "cell_type": "code",
   "execution_count": 151,
   "metadata": {},
   "outputs": [],
   "source": [
    "# Data cleaning should now be complete, but of course this hubris will come back to bite me\n",
    "df.to_csv('data_cleaned_final.csv', index=False)"
   ]
  },
  {
   "cell_type": "markdown",
   "metadata": {},
   "source": [
    "#### We were in fact not done with data cleaning. Next up, EDA.ipynb."
   ]
  }
 ],
 "metadata": {
  "kernelspec": {
   "display_name": "learn-env",
   "language": "python",
   "name": "python3"
  },
  "language_info": {
   "codemirror_mode": {
    "name": "ipython",
    "version": 3
   },
   "file_extension": ".py",
   "mimetype": "text/x-python",
   "name": "python",
   "nbconvert_exporter": "python",
   "pygments_lexer": "ipython3",
   "version": "3.12.2"
  }
 },
 "nbformat": 4,
 "nbformat_minor": 2
}
